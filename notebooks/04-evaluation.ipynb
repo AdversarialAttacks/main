{
 "cells": [
  {
   "cell_type": "markdown",
   "metadata": {},
   "source": [
    "# 24FS\\_I4DS27: Adversarial Attacks - Wie kann KI überlistet werden? <br> 02-Models"
   ]
  },
  {
   "cell_type": "code",
   "execution_count": null,
   "metadata": {},
   "outputs": [],
   "source": [
    "%load_ext autoreload\n",
    "%autoreload 2\n",
    "\n",
    "import os\n",
    "import warnings\n",
    "import pandas as pd\n",
    "os.chdir(\"../\")\n",
    "\n",
    "from src.utils.evaluation import WeightsandBiasEval\n",
    "\n",
    "ENTITY = \"24FS_I4DS27\"\n",
    "PROJECT = \"baselines\"\n",
    "\n",
    "warnings.filterwarnings(\"ignore\", category=FutureWarning)"
   ]
  },
  {
   "cell_type": "code",
   "execution_count": null,
   "metadata": {},
   "outputs": [],
   "source": [
    "# Initialize the evaluator\n",
    "evaluator = WeightsandBiasEval(entity_project_name=f\"{ENTITY}/{PROJECT}\")\n",
    "\n",
    "# fetching the latest run\n",
    "evaluator.fetch_runs()\n",
    "\n",
    "# save runs to csv\n",
    "evaluator.save_runs_to_csv(filename=\"W&B_runs.csv\", format=\"csv\")\n",
    "\n",
    "# get config \n",
    "evaluator.get_full_config_df()\n",
    "\n",
    "# get best run from a sweep\n",
    "evaluator.get_best_run(sweep_id=\"emwj64i8\")\n",
    "\n",
    "# get w_b_df \n",
    "display(evaluator.get_full_metrics_df())\n"
   ]
  }
 ],
 "metadata": {
  "kernelspec": {
   "display_name": "bat2",
   "language": "python",
   "name": "python3"
  },
  "language_info": {
   "codemirror_mode": {
    "name": "ipython",
    "version": 3
   },
   "file_extension": ".py",
   "mimetype": "text/x-python",
   "name": "python",
   "nbconvert_exporter": "python",
   "pygments_lexer": "ipython3",
   "version": "3.9.7"
  }
 },
 "nbformat": 4,
 "nbformat_minor": 2
}
