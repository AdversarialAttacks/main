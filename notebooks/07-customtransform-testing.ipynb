{
 "cells": [
  {
   "cell_type": "markdown",
   "metadata": {},
   "source": [
    "# 24FS\\_I4DS27: Adversarial Attacks - Wie kann KI überlistet werden? <br> 07-customtransform-testing"
   ]
  },
  {
   "cell_type": "code",
   "execution_count": 1,
   "metadata": {},
   "outputs": [],
   "source": [
    "%load_ext autoreload\n",
    "%autoreload 2\n",
    "\n",
    "import os\n",
    "os.chdir(\"../\")\n",
    "\n",
    "import torch\n",
    "import torchvision\n",
    "\n",
    "from src.utils.transform_perturbation import AddImagePerturbation"
   ]
  },
  {
   "cell_type": "code",
   "execution_count": 2,
   "metadata": {},
   "outputs": [],
   "source": [
    "# Create Testing Image and Perturbation Tensors\n",
    "image_tensor = torch.randn(1, 3, 500, 256)  \n",
    "perturbation_tensor = torch.randn(1, 3, 224, 224) \n"
   ]
  },
  {
   "cell_type": "code",
   "execution_count": 3,
   "metadata": {},
   "outputs": [],
   "source": [
    "# Create two transforms, one for the image and one for the adversarial perturbation image\n",
    "transform_adv = torchvision.transforms.Compose(\n",
    "    [\n",
    "        torchvision.transforms.Resize((224, 224), antialias=True),\n",
    "        AddImagePerturbation(perturbation=perturbation_tensor)\n",
    "    ],\n",
    ")\n",
    "\n",
    "transform_img = torchvision.transforms.Compose(\n",
    "    [\n",
    "        torchvision.transforms.Resize((224, 224), antialias=True),\n",
    "    ],\n",
    ")"
   ]
  },
  {
   "cell_type": "code",
   "execution_count": 4,
   "metadata": {},
   "outputs": [
    {
     "name": "stdout",
     "output_type": "stream",
     "text": [
      "Image Tensor:\n",
      "tensor([[[[-1.3336e+00,  1.9484e+00,  5.4290e-01,  ...,  5.0932e-02,\n",
      "           -5.9270e-01, -2.9864e-01],\n",
      "          [-1.1460e+00,  1.4486e+00,  4.6230e-02,  ..., -6.2283e-01,\n",
      "            1.3384e+00, -5.4776e-02],\n",
      "          [-1.5975e-01,  5.6423e-01,  8.7968e-01,  ..., -1.3125e+00,\n",
      "            1.2918e+00,  4.3681e-02],\n",
      "          ...,\n",
      "          [ 1.3706e-01, -1.2831e+00, -4.2271e-01,  ..., -2.9242e-01,\n",
      "            1.6707e-02,  9.5556e-02],\n",
      "          [ 1.3219e+00,  2.3857e-03,  1.4728e+00,  ...,  8.1668e-01,\n",
      "           -1.2895e-01, -4.8706e-01],\n",
      "          [-1.1433e+00,  8.2492e-01,  1.8365e+00,  ...,  4.7138e-01,\n",
      "            1.3176e-01, -6.9264e-02]],\n",
      "\n",
      "         [[-2.2617e-01, -1.3549e+00,  7.0807e-01,  ..., -5.1324e-01,\n",
      "           -5.8975e-01,  3.2556e-01],\n",
      "          [-6.0722e-02, -7.4989e-01, -1.1877e+00,  ..., -5.1902e-01,\n",
      "           -8.0785e-01,  5.1547e-01],\n",
      "          [ 1.6129e+00,  2.5358e-01,  1.5809e+00,  ...,  4.2186e-01,\n",
      "           -5.6356e-01, -7.2231e-02],\n",
      "          ...,\n",
      "          [-1.4847e-02, -7.1802e-02,  1.2478e+00,  ..., -5.0092e-01,\n",
      "           -1.3884e+00, -5.0438e-01],\n",
      "          [-8.2054e-01, -1.5275e-01,  1.0809e+00,  ..., -5.6952e-01,\n",
      "           -1.5956e-01, -8.7826e-01],\n",
      "          [ 1.4625e+00, -2.2555e+00,  2.4222e-01,  ..., -9.1249e-01,\n",
      "            6.0263e-01,  1.8516e-01]],\n",
      "\n",
      "         [[-7.8549e-01,  9.8718e-01,  2.9760e+00,  ...,  5.0887e-02,\n",
      "            1.8632e+00,  4.3050e-01],\n",
      "          [ 1.2799e+00,  8.9569e-01,  5.7946e-02,  ...,  2.9083e-01,\n",
      "            2.5942e-01, -4.7155e-01],\n",
      "          [-3.3888e-01, -1.8470e-01,  1.9370e-01,  ..., -1.2826e-01,\n",
      "           -1.1811e+00, -1.1846e+00],\n",
      "          ...,\n",
      "          [ 5.1273e-01,  2.0824e-01,  8.5479e-01,  ...,  7.8197e-01,\n",
      "            4.4879e-01,  2.4644e-02],\n",
      "          [ 7.6292e-01,  1.1307e+00, -1.0261e+00,  ..., -4.6782e-01,\n",
      "            3.9449e-01, -9.8321e-01],\n",
      "          [-4.7510e-01,  4.6337e-01, -1.0598e+00,  ..., -3.4533e-01,\n",
      "           -8.6874e-02, -5.1518e-02]]]])\n",
      "Perturbation Tensor:\n",
      "tensor([[[[-0.0528,  1.5623, -0.8368,  ...,  0.2751, -1.8384,  0.7981],\n",
      "          [-0.4415, -0.5389,  1.8435,  ..., -0.5957, -0.6624, -1.2732],\n",
      "          [ 0.1796,  0.2030, -0.7088,  ...,  0.6805,  1.1449, -0.8860],\n",
      "          ...,\n",
      "          [-1.5694, -0.7338, -1.5188,  ...,  1.0038,  1.2306,  1.2682],\n",
      "          [ 1.2597,  0.3550,  1.1685,  ..., -0.5600,  1.6782,  1.8841],\n",
      "          [ 0.8747, -0.7487, -0.2884,  ...,  1.5633, -0.3397, -0.9010]],\n",
      "\n",
      "         [[ 0.1815, -1.2377,  0.4406,  ..., -0.7578, -0.5839, -0.4356],\n",
      "          [ 0.4269,  0.2668, -0.4277,  ...,  0.5751, -0.4826, -1.6419],\n",
      "          [-0.8518, -0.0889,  0.0695,  ..., -0.0976, -1.0720, -0.0642],\n",
      "          ...,\n",
      "          [ 0.1698, -0.9205,  0.1521,  ..., -0.6510, -0.6389,  0.3583],\n",
      "          [-1.6707, -0.2909, -2.0475,  ..., -0.6900, -1.4902, -0.1269],\n",
      "          [ 0.1860,  0.0463, -0.5020,  ..., -1.7174,  1.1700,  1.3596]],\n",
      "\n",
      "         [[ 0.8319,  0.4989, -0.1427,  ..., -0.1043, -1.0293,  0.7008],\n",
      "          [ 0.7530,  1.8787,  0.9441,  ...,  0.0950,  1.5177,  0.3984],\n",
      "          [ 0.1309,  0.9196, -0.6643,  ...,  0.2786, -1.3022, -0.9421],\n",
      "          ...,\n",
      "          [ 0.2227,  2.0328, -0.3824,  ...,  1.6401, -0.2181, -0.4462],\n",
      "          [-1.5724,  0.6743, -0.3310,  ..., -0.9539,  0.8989, -0.1701],\n",
      "          [-0.3003, -0.5327, -0.6237,  ...,  0.6692, -0.3217,  0.0435]]]])\n",
      "Transformed Image Tensor:\n",
      "tensor([[[[-0.6611,  2.7282, -0.6652,  ..., -0.0586, -1.5416,  0.7933],\n",
      "          [-1.5119, -0.6851,  1.7116,  ..., -0.6232, -0.4690, -0.8264],\n",
      "          [-0.2106, -0.1173, -1.7768,  ...,  0.8321,  0.7527, -1.3384],\n",
      "          ...,\n",
      "          [-1.5272, -0.5204, -2.4926,  ...,  0.8158,  1.8610,  2.1823],\n",
      "          [ 1.4884,  0.6053,  1.5921,  ..., -0.9424,  1.9172,  2.7203],\n",
      "          [ 1.0218, -0.3635,  0.4651,  ...,  1.2712, -0.2113, -1.0813]],\n",
      "\n",
      "         [[ 0.2236, -1.7818,  0.6583,  ..., -0.7272, -1.1658, -0.2747],\n",
      "          [ 0.6960,  0.6910, -0.6523,  ...,  0.5797, -0.0423, -2.3995],\n",
      "          [-0.7365,  0.5105,  0.9333,  ..., -0.0866, -0.1022, -0.1701],\n",
      "          ...,\n",
      "          [ 0.4294, -0.2932,  0.3389,  ..., -1.3023, -1.1971, -0.4204],\n",
      "          [-1.7332, -0.2402, -1.7431,  ..., -0.9565, -1.7930, -0.1885],\n",
      "          [ 0.1931, -0.3996, -0.3302,  ..., -1.8515,  0.8964,  1.0018]],\n",
      "\n",
      "         [[ 1.1077,  1.3443,  1.0000,  ...,  0.2477, -0.5797,  0.5689],\n",
      "          [ 0.4856,  1.7455,  1.0289,  ...,  0.3461,  0.7975,  0.3091],\n",
      "          [ 0.3273,  0.9158, -0.4739,  ...,  0.4441, -1.6776, -1.9298],\n",
      "          ...,\n",
      "          [-0.0354,  1.6249, -0.4112,  ...,  1.5650,  0.2427, -0.0370],\n",
      "          [-1.4624,  0.8744, -0.6473,  ..., -1.0154,  1.4769, -0.3320],\n",
      "          [ 0.0243, -0.2135, -1.2554,  ...,  0.7263, -0.2083, -0.2823]]]])\n"
     ]
    }
   ],
   "source": [
    "# Apply the transforms to the image tensor\n",
    "transformed_adv = transform_adv(image_tensor)\n",
    "transformed_img = transform_img(image_tensor)\n",
    "\n",
    "print(\"Image Tensor:\")\n",
    "print(image_tensor)\n",
    "\n",
    "print(\"Perturbation Tensor:\")\n",
    "print(perturbation_tensor)\n",
    "\n",
    "print(\"Transformed Image Tensor:\")\n",
    "print(transformed_adv)"
   ]
  },
  {
   "cell_type": "code",
   "execution_count": 5,
   "metadata": {},
   "outputs": [
    {
     "name": "stdout",
     "output_type": "stream",
     "text": [
      "Perturbation added correctly\n"
     ]
    }
   ],
   "source": [
    "# check manually if the perturbation was added correctly by subtracting the transformed adv image from the transformed image\n",
    "assert torch.allclose(transformed_adv - transformed_img, perturbation_tensor, atol=1e-6)\n",
    "print(\"Perturbation added correctly\")"
   ]
  },
  {
   "cell_type": "markdown",
   "metadata": {},
   "source": [
    "## Conclusion\n",
    "\n",
    "Custom Class *AddImagePerturbation* works correctly and can be used to add perturbations to images. \n",
    "\n",
    "use following code to add perturbations to images:\n",
    "\n"
   ]
  },
  {
   "cell_type": "code",
   "execution_count": 6,
   "metadata": {},
   "outputs": [],
   "source": [
    "transform_adv = torchvision.transforms.Compose(\n",
    "    [\n",
    "        torchvision.transforms.Resize((224, 224), antialias=True),\n",
    "        AddImagePerturbation(perturbation=perturbation_tensor)\n",
    "    ],\n",
    ")"
   ]
  }
 ],
 "metadata": {
  "kernelspec": {
   "display_name": "bat2",
   "language": "python",
   "name": "python3"
  },
  "language_info": {
   "codemirror_mode": {
    "name": "ipython",
    "version": 3
   },
   "file_extension": ".py",
   "mimetype": "text/x-python",
   "name": "python",
   "nbconvert_exporter": "python",
   "pygments_lexer": "ipython3",
   "version": "3.9.7"
  }
 },
 "nbformat": 4,
 "nbformat_minor": 2
}
