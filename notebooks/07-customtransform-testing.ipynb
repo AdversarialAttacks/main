{
 "cells": [
  {
   "cell_type": "markdown",
   "metadata": {},
   "source": [
    "# 24FS\\_I4DS27: Adversarial Attacks - Wie kann KI überlistet werden? <br> 07-customtransform-testing"
   ]
  },
  {
   "cell_type": "code",
   "execution_count": 1,
   "metadata": {},
   "outputs": [],
   "source": [
    "%load_ext autoreload\n",
    "%autoreload 2\n",
    "\n",
    "import os\n",
    "os.chdir(\"../\")\n",
    "\n",
    "import torch\n",
    "import torchvision\n",
    "\n",
    "from src.utils.transform_perturbation import AddImagePerturbation"
   ]
  },
  {
   "cell_type": "code",
   "execution_count": 2,
   "metadata": {},
   "outputs": [],
   "source": [
    "# Create Testing Image and Perturbation Tensors\n",
    "image_tensor = torch.randn(1, 3, 500, 256)  \n",
    "perturbation_tensor = torch.randn(5, 3, 224, 224) \n"
   ]
  },
  {
   "cell_type": "code",
   "execution_count": 3,
   "metadata": {},
   "outputs": [],
   "source": [
    "# Create two transforms, one for the image and one for the adversarial perturbation image\n",
    "transform_adv = torchvision.transforms.Compose(\n",
    "    [\n",
    "        torchvision.transforms.Resize((224, 224), antialias=True),\n",
    "        AddImagePerturbation(perturbation=perturbation_tensor)\n",
    "    ],\n",
    ")\n",
    "\n",
    "transform_img = torchvision.transforms.Compose(\n",
    "    [\n",
    "        torchvision.transforms.Resize((224, 224), antialias=True),\n",
    "    ],\n",
    ")"
   ]
  },
  {
   "cell_type": "code",
   "execution_count": 4,
   "metadata": {},
   "outputs": [
    {
     "name": "stdout",
     "output_type": "stream",
     "text": [
      "Image Tensor:\n",
      "torch.Size([1, 3, 500, 256])\n",
      "Perturbation Tensor:\n",
      "torch.Size([5, 3, 224, 224])\n",
      "Transformed Image Tensor:\n",
      "torch.Size([1, 3, 224, 224])\n"
     ]
    }
   ],
   "source": [
    "# Apply the transforms to the image tensor\n",
    "transformed_adv = transform_adv(image_tensor)\n",
    "transformed_img = transform_img(image_tensor)\n",
    "\n",
    "print(\"Image Tensor:\")\n",
    "print(image_tensor.shape)\n",
    "\n",
    "print(\"Perturbation Tensor:\")\n",
    "print(perturbation_tensor.shape)\n",
    "\n",
    "print(\"Transformed Image Tensor:\")\n",
    "print(transformed_adv.shape)"
   ]
  },
  {
   "cell_type": "markdown",
   "metadata": {},
   "source": [
    "## Conclusion\n",
    "\n",
    "Custom Class *AddImagePerturbation* works correctly and can be used to add perturbations to images. \n",
    "\n",
    "use following code to add perturbations to images:\n",
    "\n"
   ]
  },
  {
   "cell_type": "code",
   "execution_count": 5,
   "metadata": {},
   "outputs": [],
   "source": [
    "transform_adv = torchvision.transforms.Compose(\n",
    "    [\n",
    "        torchvision.transforms.Resize((224, 224), antialias=True),\n",
    "        AddImagePerturbation(perturbation=perturbation_tensor)\n",
    "    ],\n",
    ")"
   ]
  }
 ],
 "metadata": {
  "kernelspec": {
   "display_name": "bat2",
   "language": "python",
   "name": "python3"
  },
  "language_info": {
   "codemirror_mode": {
    "name": "ipython",
    "version": 3
   },
   "file_extension": ".py",
   "mimetype": "text/x-python",
   "name": "python",
   "nbconvert_exporter": "python",
   "pygments_lexer": "ipython3",
   "version": "3.10.13"
  }
 },
 "nbformat": 4,
 "nbformat_minor": 2
}
