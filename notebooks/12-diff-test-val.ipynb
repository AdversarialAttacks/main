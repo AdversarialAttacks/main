{
 "cells": [
  {
   "cell_type": "code",
   "execution_count": null,
   "id": "d592e404-e005-4e6a-bd04-76fcef5b44cf",
   "metadata": {},
   "outputs": [],
   "source": [
    "%load_ext autoreload\n",
    "%autoreload 2\n",
    "\n",
    "import os\n",
    "if os.getcwd() == '/home/jovyan/work': # jhub\n",
    "    os.chdir(\"24FS_I4DS27/main/\") \n",
    "    os.system(\"make reqs\")\n",
    "else: # local\n",
    "    os.chdir(\"../\")"
   ]
  },
  {
   "cell_type": "code",
   "execution_count": null,
   "id": "ab9053e1-f812-47c5-b86f-2f24ce7c15ab",
   "metadata": {},
   "outputs": [],
   "source": [
    "import torch \n",
    "import torchvision\n",
    "import plotly.express as px\n",
    "import plotly.graph_objects as go\n",
    "from tqdm import tqdm\n",
    "from src.data.mri import MRIDataModule\n",
    "from src.data.covidx import COVIDXDataModule\n",
    "from src.models.imageclassifier import ImageClassifier\n",
    "from sklearn.decomposition import PCA\n",
    "\n",
    "DEVICE = \"cuda\" if torch.cuda.is_available() else \"mps\" if torch.backends.mps.is_available() else \"cpu\"\n",
    "NUM_WORKERS = 0\n",
    "BATCH_SIZE = 32\n",
    "\n",
    "print(f\"Device: {DEVICE}\")"
   ]
  },
  {
   "cell_type": "code",
   "execution_count": null,
   "id": "d581acbc-c341-4e12-8b25-dc6884f113ec",
   "metadata": {},
   "outputs": [],
   "source": [
    "transform = torchvision.transforms.Compose(\n",
    "    [\n",
    "        torchvision.transforms.Resize((224, 224), antialias=True),\n",
    "    ]\n",
    ")\n",
    "\n",
    "class passthrough(torch.nn.Module):\n",
    "    def forward(self, x):\n",
    "        return x\n",
    "\n",
    "def get_model(modelname, ours=False):\n",
    "    if ours:\n",
    "        model = ImageClassifier.load_from_checkpoint(\n",
    "            checkpoint_path=f\"models/{modelname}-covidx_data/model.ckpt\",\n",
    "            modelname=modelname,\n",
    "            output_size=1,\n",
    "            p_dropout_classifier=0.0,\n",
    "            lr=0.0,\n",
    "            weight_decay=0.0,\n",
    "        )\n",
    "        model.model.fc = passthrough()\n",
    "    else:\n",
    "        model = torchvision.models.get_model(modelname, weights=\"DEFAULT\")\n",
    "        model.fc = passthrough()\n",
    "\n",
    "    model.eval()\n",
    "    model = model.to(DEVICE)\n",
    "    return model\n",
    "\n",
    "def get_datamodule(dataset):\n",
    "    if dataset == \"covidx_data\":\n",
    "        datamodule = COVIDXDataModule(\n",
    "            path=\"data/raw/COVIDX-CXR4\",\n",
    "            transform=transform,\n",
    "            num_workers=NUM_WORKERS,\n",
    "            batch_size=BATCH_SIZE,\n",
    "            train_sample_size=0.125,\n",
    "            train_shuffle=True,\n",
    "            seed=42,\n",
    "        ).setup()\n",
    "    if dataset == \"mri_data\":\n",
    "        datamodule = MRIDataModule(\n",
    "            path=\"data/raw/Brain-Tumor-MRI\",\n",
    "            path_processed=\"data/processed/Brain-Tumor-MRI\",\n",
    "            transform=transform,\n",
    "            num_workers=NUM_WORKERS,\n",
    "            batch_size=BATCH_SIZE,\n",
    "            train_shuffle=True,\n",
    "        ).setup()\n",
    "\n",
    "    return datamodule"
   ]
  },
  {
   "cell_type": "code",
   "execution_count": null,
   "id": "5f08dbd7",
   "metadata": {},
   "outputs": [],
   "source": [
    "def visualize_feature_maps(modelname, our_model, datasetname, one_plot=False):\n",
    "    print(f\"Visualizing feature maps for {'our ' if our_model else ''}{modelname} on {datasetname}...\")\n",
    "\n",
    "    model = get_model(modelname, ours=our_model)\n",
    "    datamodule = get_datamodule(datasetname)\n",
    "\n",
    "    # Extract feature maps\n",
    "    with torch.no_grad():\n",
    "        train_feature_maps = []\n",
    "        val_feature_maps = []\n",
    "        test_feature_maps = []\n",
    "\n",
    "        print(\"Extracting feature maps from train...\")\n",
    "        for batch in tqdm(datamodule.train_dataloader(), desc=\"Batch\"):\n",
    "            x, _ = batch\n",
    "            feature_map = model(x.to(DEVICE))\n",
    "            train_feature_maps.append(feature_map)\n",
    "\n",
    "        print(\"Extracting feature maps from val...\")\n",
    "        for batch in tqdm(datamodule.val_dataloader(), desc=\"Batch\"):\n",
    "            x, _ = batch\n",
    "            feature_map = model(x.to(DEVICE))\n",
    "            val_feature_maps.append(feature_map)\n",
    "\n",
    "        print(\"Extracting feature maps from test...\")\n",
    "        for batch in tqdm(datamodule.test_dataloader(), desc=\"Batch\"):\n",
    "            x, _ = batch\n",
    "            feature_map = model(x.to(DEVICE))\n",
    "            test_feature_maps.append(feature_map)\n",
    "\n",
    "    # Concatenate feature maps\n",
    "    train_feature_maps = torch.cat(train_feature_maps)\n",
    "    val_feature_maps = torch.cat(val_feature_maps)\n",
    "    test_feature_maps = torch.cat(test_feature_maps)\n",
    "    all_feature_maps = torch.cat([train_feature_maps, val_feature_maps, test_feature_maps], dim=0)\n",
    "\n",
    "    # Convert to numpy\n",
    "    train_feature_maps = train_feature_maps.detach().cpu().numpy()\n",
    "    test_feature_maps = test_feature_maps.detach().cpu().numpy()\n",
    "    val_feature_maps = val_feature_maps.detach().cpu().numpy()\n",
    "    all_feature_maps = all_feature_maps.detach().cpu().numpy()\n",
    "\n",
    "    # Calculate PCA\n",
    "    pca = PCA(n_components=2, random_state=42)\n",
    "    pca.fit(all_feature_maps)\n",
    "\n",
    "    train_results = pca.transform(train_feature_maps)\n",
    "    val_results = pca.transform(val_feature_maps)\n",
    "    test_results = pca.transform(test_feature_maps)\n",
    "\n",
    "    print(f\"n Train:\\t{train_results.shape[0]}\")\n",
    "    print(f\"n Val:\\t\\t{val_results.shape[0]}\")\n",
    "    print(f\"n Test:\\t\\t{test_results.shape[0]}\")\n",
    "\n",
    "    # Get lims\n",
    "    x_min = min(train_results[:, 0].min(), val_results[:, 0].min(), test_results[:, 0].min())\n",
    "    x_max = max(train_results[:, 0].max(), val_results[:, 0].max(), test_results[:, 0].max())\n",
    "    y_min = min(train_results[:, 1].min(), val_results[:, 1].min(), test_results[:, 1].min())\n",
    "    y_max = max(train_results[:, 1].max(), val_results[:, 1].max(), test_results[:, 1].max())\n",
    "\n",
    "    # Plot PCA\n",
    "    fig = px.scatter(x=train_results[:, 0], y=train_results[:, 1], title=\"PCA of Train Feature Maps\", labels={\"x\": \"PC1\", \"y\": \"PC2\"}, opacity=0.5)\n",
    "    fig.update_layout(xaxis_range=[x_min, x_max], yaxis_range=[y_min, y_max])\n",
    "    fig.show()\n",
    "\n",
    "    fig = px.scatter(x=val_results[:, 0], y=val_results[:, 1], title=\"PCA of Validation Feature Maps\", labels={\"x\": \"PC1\", \"y\": \"PC2\"}, opacity=0.5)\n",
    "    fig.update_layout(xaxis_range=[x_min, x_max], yaxis_range=[y_min, y_max])\n",
    "    fig.show()\n",
    "\n",
    "    fig = px.scatter(x=test_results[:, 0], y=test_results[:, 1], title=\"PCA of Test Feature Maps\", labels={\"x\": \"PC1\", \"y\": \"PC2\"}, opacity=0.5)\n",
    "    fig.update_layout(xaxis_range=[x_min, x_max], yaxis_range=[y_min, y_max])\n",
    "    fig.show()\n",
    "\n",
    "    results = {'train': train_results, 'val': val_results, 'test': test_results}\n",
    "\n",
    "    if one_plot:\n",
    "        fig = go.Figure()\n",
    "        for key, color in zip(results, ['blue', 'green', 'red']):\n",
    "            fig.add_trace(go.Scatter(x=results[key][:, 0], y=results[key][:, 1], mode='markers', name=f\"{key.capitalize()} Feature Maps\", marker=dict(color=color)))\n",
    "        fig.update_layout(title=\"PCA of Feature Maps\", xaxis_title=\"PC1\", yaxis_title=\"PC2\", legend_title=\"Dataset\", xaxis_range=[x_min, x_max], yaxis_range=[y_min, y_max])\n",
    "        fig.show()\n"
   ]
  },
  {
   "cell_type": "code",
   "execution_count": null,
   "id": "a340bfd8-4a3f-4333-a438-e7eb768c7e54",
   "metadata": {},
   "outputs": [],
   "source": [
    "visualize_feature_maps(\"resnet50\", our_model=True, datasetname=\"covidx_data\")"
   ]
  },
  {
   "cell_type": "code",
   "execution_count": null,
   "id": "665da776",
   "metadata": {},
   "outputs": [],
   "source": [
    "visualize_feature_maps(\"resnet50\", our_model=False, datasetname=\"covidx_data\")"
   ]
  },
  {
   "cell_type": "code",
   "execution_count": null,
   "id": "f2cf5803",
   "metadata": {},
   "outputs": [],
   "source": [
    "visualize_feature_maps(\"resnet50\", our_model=True, datasetname=\"mri_data\")"
   ]
  },
  {
   "cell_type": "code",
   "execution_count": null,
   "id": "893e045e",
   "metadata": {},
   "outputs": [],
   "source": [
    "visualize_feature_maps(\"resnet50\", our_model=False, datasetname=\"mri_data\")"
   ]
  },
  {
   "cell_type": "code",
   "execution_count": null,
   "id": "b7d30c67",
   "metadata": {},
   "outputs": [],
   "source": [
    "visualize_feature_maps(\"resnet50\", our_model=True, datasetname=\"covidx_data\", one_plot=True)"
   ]
  },
  {
   "cell_type": "code",
   "execution_count": null,
   "id": "08a4994f",
   "metadata": {},
   "outputs": [],
   "source": [
    "visualize_feature_maps(\"resnet50\", our_model=False, datasetname=\"covidx_data\", one_plot=True)"
   ]
  },
  {
   "cell_type": "code",
   "execution_count": null,
   "id": "f28c6da3",
   "metadata": {},
   "outputs": [],
   "source": [
    "visualize_feature_maps(\"resnet50\", our_model=True, datasetname=\"mri_data\", one_plot=True)"
   ]
  },
  {
   "cell_type": "code",
   "execution_count": null,
   "id": "3481b0bb",
   "metadata": {},
   "outputs": [],
   "source": [
    "visualize_feature_maps(\"resnet50\", our_model=False, datasetname=\"mri_data\", one_plot=True)"
   ]
  }
 ],
 "metadata": {
  "kernelspec": {
   "display_name": "Python 3 (ipykernel)",
   "language": "python",
   "name": "python3"
  },
  "language_info": {
   "codemirror_mode": {
    "name": "ipython",
    "version": 3
   },
   "file_extension": ".py",
   "mimetype": "text/x-python",
   "name": "python",
   "nbconvert_exporter": "python",
   "pygments_lexer": "ipython3",
   "version": "3.9.7"
  }
 },
 "nbformat": 4,
 "nbformat_minor": 5
}
