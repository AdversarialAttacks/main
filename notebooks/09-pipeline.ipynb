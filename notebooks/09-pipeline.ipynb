{
 "cells": [
  {
   "cell_type": "markdown",
   "id": "4f0d7003",
   "metadata": {
    "papermill": {
     "duration": 0.001586,
     "end_time": "2024-05-21T15:27:18.541452",
     "exception": false,
     "start_time": "2024-05-21T15:27:18.539866",
     "status": "completed"
    },
    "tags": []
   },
   "source": [
    "In diesem Notebook wird die Pipeline aufgebaut."
   ]
  },
  {
   "cell_type": "code",
   "execution_count": 1,
   "id": "00fa5035",
   "metadata": {
    "papermill": {
     "duration": 0.012259,
     "end_time": "2024-05-21T15:27:18.562214",
     "exception": false,
     "start_time": "2024-05-21T15:27:18.549955",
     "status": "completed"
    },
    "tags": []
   },
   "outputs": [],
   "source": [
    "%load_ext autoreload\n",
    "%autoreload 2\n",
    "\n",
    "import os\n",
    "if os.getcwd() == '/home/jovyan/work': # jhub\n",
    "    os.chdir(\"24FS_I4DS27/main/\") \n",
    "    os.system(\"make reqs\")\n",
    "else: # local\n",
    "    os.chdir(\"../\")"
   ]
  },
  {
   "cell_type": "code",
   "execution_count": 2,
   "id": "968a7c7e",
   "metadata": {
    "papermill": {
     "duration": 2.11143,
     "end_time": "2024-05-21T15:27:20.674531",
     "exception": false,
     "start_time": "2024-05-21T15:27:18.563101",
     "status": "completed"
    },
    "tags": []
   },
   "outputs": [],
   "source": [
    "import torch\n",
    "import torchvision\n",
    "import matplotlib.pyplot as plt\n",
    "\n",
    "from src.data.mri import MRIDataModule\n",
    "from src.data.covidx import COVIDXDataModule\n",
    "from src.utils.download import download_models\n",
    "from src.utils.transform_perturbation import AddImagePerturbation\n",
    "from src.utils.uap_helper import generate_adversarial_images_from_model_dataset, get_model\n",
    "from src.utils.adv_training import pipeline, get_transform\n",
    "from src.models.imageclassifier import ImageClassifier\n",
    "\n",
    "from lightning.pytorch import Trainer\n",
    "from lightning.pytorch import loggers as pl_loggers\n",
    "from lightning.pytorch.callbacks import ModelCheckpoint, EarlyStopping\n",
    "\n",
    "plt.rcParams[\"figure.dpi\"] = 200\n",
    "plt.rcParams[\"figure.figsize\"] = (16, 8)\n",
    "\n",
    "torch.set_float32_matmul_precision('high')"
   ]
  },
  {
   "cell_type": "code",
   "execution_count": 3,
   "id": "66fa2354",
   "metadata": {
    "papermill": {
     "duration": 0.032673,
     "end_time": "2024-05-21T15:27:20.708306",
     "exception": false,
     "start_time": "2024-05-21T15:27:20.675633",
     "status": "completed"
    },
    "tags": []
   },
   "outputs": [],
   "source": [
    "ENTITY = \"24FS_I4DS27\"\n",
    "PROJECT = \"baselines\"\n",
    "NUM_WORKERS = 8\n",
    "\n",
    "def get_datamodule(dataset, transform=get_transform(), num_workers=0, batch_size=1, seed=42):\n",
    "    if dataset == \"covidx_data\":\n",
    "        return COVIDXDataModule(\n",
    "            path=\"data/raw/COVIDX-CXR4\",\n",
    "            transform=transform,\n",
    "            num_workers=num_workers,\n",
    "            batch_size=batch_size,\n",
    "            train_sample_size=0.05,\n",
    "            train_shuffle=True,\n",
    "            seed=seed,\n",
    "        ).setup()\n",
    "\n",
    "    elif dataset == \"mri_data\":\n",
    "        return MRIDataModule(\n",
    "            path=\"data/raw/Brain-Tumor-MRI\",\n",
    "            path_processed=\"data/processed/Brain-Tumor-MRI\",\n",
    "            transform=transform,\n",
    "            num_workers=num_workers,\n",
    "            batch_size=batch_size,\n",
    "            train_shuffle=True,\n",
    "            seed=seed,\n",
    "        ).setup()\n",
    "\n",
    "    else:\n",
    "        raise ValueError(\"Invalid dataset\")\n",
    "\n",
    "device = \"cuda\" if torch.cuda.is_available() else \"mps\" if torch.backends.mps.is_available() else \"cpu\""
   ]
  },
  {
   "cell_type": "code",
   "execution_count": 4,
   "id": "b8e4ca06",
   "metadata": {
    "papermill": {
     "duration": 0.020863,
     "end_time": "2024-05-21T15:27:20.730130",
     "exception": false,
     "start_time": "2024-05-21T15:27:20.709267",
     "status": "completed"
    },
    "tags": []
   },
   "outputs": [],
   "source": [
    "# Download models if not present\n",
    "models = download_models(ENTITY, PROJECT)"
   ]
  },
  {
   "cell_type": "code",
   "execution_count": null,
   "id": "ff844d52",
   "metadata": {
    "papermill": {
     "duration": 575.952751,
     "end_time": "2024-05-21T15:36:56.713752",
     "exception": false,
     "start_time": "2024-05-21T15:27:20.761001",
     "status": "completed"
    },
    "tags": []
   },
   "outputs": [
    {
     "name": "stdout",
     "output_type": "stream",
     "text": [
      "\n",
      "---\n",
      "Model: resnet50 - Dataset: covidx_data\n",
      "Device: cuda\n"
     ]
    },
    {
     "data": {
      "application/vnd.jupyter.widget-view+json": {
       "model_id": "798bef396b4542c1a7c7e1feece2015b",
       "version_major": 2,
       "version_minor": 0
      },
      "text/plain": [
       "Universal Pertubation:   0%|          | 0/5 [00:00<?, ?it/s]"
      ]
     },
     "metadata": {},
     "output_type": "display_data"
    },
    {
     "name": "stderr",
     "output_type": "stream",
     "text": [
      "/opt/conda/lib/python3.11/site-packages/torch/autograd/graph.py:744: UserWarning: Plan failed with an OutOfMemoryError: CUDA out of memory. Tried to allocate 128.00 MiB. GPU  (Triggered internally at ../aten/src/ATen/native/cudnn/Conv_v8.cpp:924.)\n",
      "  return Variable._execution_engine.run_backward(  # Calls into the C++ engine to run the backward pass\n",
      "/opt/conda/lib/python3.11/site-packages/torch/nn/modules/conv.py:456: UserWarning: Plan failed with an OutOfMemoryError: CUDA out of memory. Tried to allocate 128.00 MiB. GPU  (Triggered internally at ../aten/src/ATen/native/cudnn/Conv_v8.cpp:924.)\n",
      "  return F.conv2d(input, weight, bias, self.stride,\n"
     ]
    },
    {
     "name": "stdout",
     "output_type": "stream",
     "text": [
      "Attempt 1 failed: CUDA out of memory. Tried to allocate 2.00 MiB. GPU \n"
     ]
    },
    {
     "name": "stderr",
     "output_type": "stream",
     "text": [
      "/opt/conda/lib/python3.11/site-packages/lightning/fabric/loggers/csv_logs.py:268: Experiment logs directory robustified_models/resnet50-covidx_data-n_1000-robustification_0/01_UAPs_pre_robustification exists and is not empty. Previous log files in this directory will be deleted when the new ones are saved!\n"
     ]
    },
    {
     "data": {
      "application/vnd.jupyter.widget-view+json": {
       "model_id": "b6d93a1f2a624bc0ac4d805e3d627b0a",
       "version_major": 2,
       "version_minor": 0
      },
      "text/plain": [
       "Universal Pertubation:   0%|          | 0/5 [00:00<?, ?it/s]"
      ]
     },
     "metadata": {},
     "output_type": "display_data"
    },
    {
     "name": "stdout",
     "output_type": "stream",
     "text": [
      "Attempt 2 failed: CUDA out of memory. Tried to allocate 2.00 MiB. GPU \n"
     ]
    },
    {
     "name": "stderr",
     "output_type": "stream",
     "text": [
      "/opt/conda/lib/python3.11/site-packages/lightning/fabric/loggers/csv_logs.py:268: Experiment logs directory robustified_models/resnet50-covidx_data-n_1000-robustification_0/01_UAPs_pre_robustification exists and is not empty. Previous log files in this directory will be deleted when the new ones are saved!\n"
     ]
    },
    {
     "data": {
      "application/vnd.jupyter.widget-view+json": {
       "model_id": "9bfb02f4b04e4fc7bb2b6382334be820",
       "version_major": 2,
       "version_minor": 0
      },
      "text/plain": [
       "Universal Pertubation:   0%|          | 0/5 [00:00<?, ?it/s]"
      ]
     },
     "metadata": {},
     "output_type": "display_data"
    }
   ],
   "source": [
    "modelname, dataset = \"resnet50\", \"covidx_data\"\n",
    "print(f\"\\n---\\nModel: {modelname} - Dataset: {dataset}\")\n",
    "print(f\"Device: {device}\")\n",
    "\n",
    "\n",
    "lr = 1e-1\n",
    "max_retries = 10\n",
    "for attempt in range(max_retries):\n",
    "    try:\n",
    "        pipeline(\n",
    "            modelname=modelname,\n",
    "            dataset=dataset,\n",
    "            n_robustifications=10,\n",
    "            i=5,\n",
    "            n=1000,\n",
    "            t=30,\n",
    "            p=2,\n",
    "            lambda_norm=0.001,\n",
    "            r=0.5,\n",
    "            eps=1e-6,\n",
    "            lr_uap=lr,\n",
    "            seed=42,\n",
    "            num_workers=NUM_WORKERS,\n",
    "            device=device,\n",
    "            verbose=False,\n",
    "        )\n",
    "    # CUDA out of memory error\n",
    "    except RuntimeError as e:\n",
    "        print(f\"Attempt {attempt + 1} failed: {e}\")\n",
    "        if attempt >= max_retries - 1:\n",
    "            print(\"All retries failed, lowering learning rate\")\n",
    "            lr /= 10**0.5"
   ]
  }
 ],
 "metadata": {
  "kernelspec": {
   "display_name": "Python 3 (ipykernel)",
   "language": "python",
   "name": "python3"
  },
  "language_info": {
   "codemirror_mode": {
    "name": "ipython",
    "version": 3
   },
   "file_extension": ".py",
   "mimetype": "text/x-python",
   "name": "python",
   "nbconvert_exporter": "python",
   "pygments_lexer": "ipython3",
   "version": "3.11.8"
  },
  "papermill": {
   "default_parameters": {},
   "duration": 580.131392,
   "end_time": "2024-05-21T15:36:58.032867",
   "environment_variables": {},
   "exception": null,
   "input_path": "09-pipeline.ipynb",
   "output_path": "09-pipeline.ipynb",
   "parameters": {},
   "start_time": "2024-05-21T15:27:17.901475",
   "version": "2.6.0"
  }
 },
 "nbformat": 4,
 "nbformat_minor": 5
}
