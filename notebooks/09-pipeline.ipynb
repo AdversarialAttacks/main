{
 "cells": [
  {
   "cell_type": "markdown",
   "metadata": {},
   "source": [
    "In diesem Notebook wird die Pipeline aufgebaut."
   ]
  },
  {
   "cell_type": "code",
   "execution_count": 1,
   "metadata": {},
   "outputs": [],
   "source": [
    "%load_ext autoreload\n",
    "%autoreload 2\n",
    "\n",
    "import os\n",
    "if os.getcwd() == '/home/jovyan/work': # jhub\n",
    "    os.chdir(\"24FS_I4DS27/main/\") \n",
    "    os.system(\"make reqs\")\n",
    "else: # local\n",
    "    os.chdir(\"../\")"
   ]
  },
  {
   "cell_type": "code",
   "execution_count": 2,
   "metadata": {},
   "outputs": [],
   "source": [
    "import torch\n",
    "import wandb\n",
    "import torchvision\n",
    "import matplotlib.pyplot as plt\n",
    "from tqdm.notebook import tqdm\n",
    "from src.utils.download import download_models\n",
    "from src.utils.uap_helper import generate_adversarial_images_from_model_dataset, get_model\n",
    "from src.utils.metrics import metrics, Metrics\n",
    "from src.utils.transform_perturbation import AddImagePerturbation\n",
    "from src.data.mri import MRIDataModule\n",
    "from src.data.covidx import COVIDXDataModule\n",
    "from src.utils.evaluation import WeightsandBiasEval\n",
    "from src.models.imageclassifier import ImageClassifier\n",
    "\n",
    "from lightning.pytorch import Trainer\n",
    "from lightning.pytorch import loggers as pl_loggers\n",
    "from lightning.pytorch.callbacks import ModelCheckpoint\n",
    "\n",
    "plt.rcParams[\"figure.dpi\"] = 200\n",
    "plt.rcParams[\"figure.figsize\"] = (16, 8)\n",
    "\n",
    "torch.set_float32_matmul_precision('high')"
   ]
  },
  {
   "cell_type": "code",
   "execution_count": 3,
   "metadata": {},
   "outputs": [],
   "source": [
    "ENTITY = \"24FS_I4DS27\"\n",
    "PROJECT = \"baselines\"\n",
    "NUM_WORKERS = 8\n",
    "\n",
    "\n",
    "def get_transform(perturbations: torch.Tensor = None, p: float = None, idx: int = None):\n",
    "    if None in (perturbations, p, idx):\n",
    "        return torchvision.transforms.Compose(\n",
    "            [\n",
    "                torchvision.transforms.Resize((224, 224), antialias=True),\n",
    "            ]\n",
    "        )\n",
    "    return torchvision.transforms.Compose(\n",
    "        [\n",
    "            torchvision.transforms.Resize((224, 224), antialias=True),\n",
    "            AddImagePerturbation(perturbations, p, idx),\n",
    "        ]\n",
    "    )\n",
    "\n",
    "def get_datamodule(dataset, transform=get_transform(), num_workers=0, batch_size=1, seed=42):\n",
    "    if dataset == \"covidx_data\":\n",
    "        return COVIDXDataModule(\n",
    "            path=\"data/raw/COVIDX-CXR4\",\n",
    "            transform=transform,\n",
    "            num_workers=num_workers,\n",
    "            batch_size=batch_size,\n",
    "            train_sample_size=0.05,\n",
    "            train_shuffle=True,\n",
    "            seed=seed,\n",
    "        ).setup()\n",
    "\n",
    "    elif dataset == \"mri_data\":\n",
    "        return MRIDataModule(\n",
    "            path=\"data/raw/Brain-Tumor-MRI\",\n",
    "            path_processed=\"data/processed/Brain-Tumor-MRI\",\n",
    "            transform=transform,\n",
    "            num_workers=num_workers,\n",
    "            batch_size=batch_size,\n",
    "            train_shuffle=True,\n",
    "            seed=seed,\n",
    "        ).setup()\n",
    "\n",
    "    else:\n",
    "        raise ValueError(\"Invalid dataset\")\n",
    "\n",
    "device = \"cuda\" if torch.cuda.is_available() else \"mps\" if torch.backends.mps.is_available() else \"cpu\""
   ]
  },
  {
   "cell_type": "code",
   "execution_count": 4,
   "metadata": {},
   "outputs": [],
   "source": [
    "# Download models if not present\n",
    "models = download_models(ENTITY, PROJECT)"
   ]
  },
  {
   "cell_type": "code",
   "execution_count": 5,
   "metadata": {},
   "outputs": [],
   "source": [
    "def pipeline(\n",
    "    modelname: str,\n",
    "    dataset: str,\n",
    "    n_robustifications: int,\n",
    "    i: int,\n",
    "    n: int,\n",
    "    t: int,\n",
    "    p: int,\n",
    "    lambda_norm: float,\n",
    "    r: float,\n",
    "    eps: float,\n",
    "    seed: int,\n",
    "    num_workers: int,\n",
    "    device: str,\n",
    "    verbose: bool = False,\n",
    "):\n",
    "    \"\"\"\n",
    "    Runs the pipeline for generating Universal Adversarial Perturbations (UAP) using the specified model and dataset.\n",
    "\n",
    "    Parameters:\n",
    "    modelname (str): The name of the model to be used for generating perturbations.\n",
    "    dataset (str): The dataset to be used for training and evaluating the UAP.\n",
    "    n_robustifications (int): The number of robustifications to apply.\n",
    "    i (int): The number of UAPs to generate.\n",
    "    n (int): The number of images to be used for generating UAPs.\n",
    "    t (int): The number of retries to fool an image on the algorithm.\n",
    "    p (int): The norm to be used for measuring perturbations (e.g., L2 norm, L∞ norm).\n",
    "    lambda_norm (float): The regularization parameter for the norm.\n",
    "    r (float): The desired fooling rate, which when achieved, saves the UAP.\n",
    "    eps (float): A small positive constant for numerical stability in the loss function.\n",
    "    seed (int): The random seed for reproducibility.\n",
    "    num_workers (int): Number of worker threads for data loading.\n",
    "    device (str): The device to be used for computation (e.g., 'cpu' or 'cuda').\n",
    "    verbose (bool): Whether to print additional information during the pipeline.\n",
    "\n",
    "    Returns:\n",
    "    None\n",
    "    \"\"\"\n",
    "    model = get_model(modelname=modelname, dataset=dataset, output_size=1)\n",
    "\n",
    "    for current_robustification in range(n_robustifications):\n",
    "        modelfolder = f\"{modelname}-{dataset}-n_{n}-robustification_{current_robustification}\"\n",
    "        # generate UAP\n",
    "        loggerUAP = pl_loggers.CSVLogger(\n",
    "            \"robustified_models\",\n",
    "            name=modelfolder,\n",
    "            version=\"UAPs_pre_robustification\",\n",
    "            flush_logs_every_n_steps=1,\n",
    "        )\n",
    "        perturbations = generate_adversarial_images_from_model_dataset(\n",
    "            model,\n",
    "            modelname,\n",
    "            dataset,\n",
    "            logger=loggerUAP,\n",
    "            transform=get_transform(),\n",
    "            i=i,\n",
    "            n=n,\n",
    "            r=r,\n",
    "            p=p,\n",
    "            lambda_norm=lambda_norm,\n",
    "            t=t,\n",
    "            eps=eps,\n",
    "            seed=seed,\n",
    "            num_workers=num_workers,\n",
    "            device=device,\n",
    "            verbose=verbose,\n",
    "        ).cpu()\n",
    "        perturbations = perturbations.detach()\n",
    "        loggerUAP.save()\n",
    "\n",
    "        # evaluate model on testdata\n",
    "        loggerEvalUnrobustifiedTest = pl_loggers.CSVLogger(\n",
    "            \"robustified_models\",\n",
    "            name=modelfolder,\n",
    "            version=\"eval_unrobustified_test\",\n",
    "            flush_logs_every_n_steps=1,\n",
    "        )\n",
    "        datamodule = get_datamodule(\n",
    "            dataset=dataset,\n",
    "            transform=get_transform(),\n",
    "            num_workers=num_workers,\n",
    "            batch_size=32,\n",
    "            seed=seed,\n",
    "        )\n",
    "        trainer = Trainer(\n",
    "            logger=loggerEvalUnrobustifiedTest,\n",
    "        )\n",
    "        trainer.test(model, datamodule.test_dataloader())\n",
    "\n",
    "        # evaluate model on testdata + uaps\n",
    "        for perturbation_idx in range(i):\n",
    "            loggerEvalUnrobustifiedTestUAP = pl_loggers.CSVLogger(\n",
    "                \"robustified_models\",\n",
    "                name=modelfolder,\n",
    "                version=f\"eval_unrobustified_test_uap_{perturbation_idx}\",\n",
    "                flush_logs_every_n_steps=1,\n",
    "            )\n",
    "            datamodule = get_datamodule(\n",
    "                dataset=dataset,\n",
    "                transform=get_transform(perturbations, p=1, idx=perturbation_idx),\n",
    "                num_workers=num_workers,\n",
    "                batch_size=32,\n",
    "                seed=seed,\n",
    "            )\n",
    "            trainer = Trainer(\n",
    "                logger=loggerEvalUnrobustifiedTestUAP,\n",
    "            )\n",
    "            trainer.test(model, datamodule.test_dataloader())\n",
    "\n",
    "        # unfreeze model\n",
    "        model.unfreeze()\n",
    "        model.train()\n",
    "\n",
    "        # robustify model\n",
    "        loggerRobustify = pl_loggers.CSVLogger(\n",
    "            \"robustified_models\",\n",
    "            name=modelfolder,\n",
    "            version=\"robustify_model\",\n",
    "            flush_logs_every_n_steps=1,\n",
    "        )\n",
    "        datamodule = get_datamodule(\n",
    "            dataset=dataset,\n",
    "            transform=get_transform(perturbations, p=0.5),\n",
    "            num_workers=num_workers,\n",
    "            batch_size=32,\n",
    "            seed=seed,\n",
    "        )\n",
    "        trainer = Trainer(\n",
    "            max_epochs=50,\n",
    "            log_every_n_steps=1,\n",
    "            gradient_clip_val=0.5,\n",
    "            accelerator=\"auto\",\n",
    "            logger=loggerRobustify,\n",
    "            fast_dev_run=False,  # set to True to test run\n",
    "            enable_progress_bar=True,\n",
    "            enable_model_summary=True,\n",
    "            callbacks=[\n",
    "                # EarlyStopping(monitor=\"val_loss\", mode=\"min\", patience=1),\n",
    "                ModelCheckpoint(\n",
    "                    monitor=\"val_loss\",\n",
    "                    mode=\"min\",\n",
    "                    save_top_k=1,  # save the best model\n",
    "                    save_last=False,  # save the last model\n",
    "                    dirpath=f\"robustified_models/{modelname}-{dataset}-n_{n}-robustification_{current_robustification}/robustify_model\",\n",
    "                    filename=\"model\",\n",
    "                )\n",
    "            ],\n",
    "        )\n",
    "        \n",
    "        trainer.fit(model, datamodule.train_dataloader(), datamodule.val_dataloader())\n",
    "\n",
    "        # freeze model\n",
    "        model.freeze()\n",
    "        model.eval()\n",
    "\n",
    "        # evaluate robustified model on testdata\n",
    "        loggerEvalRobustifiedTest = pl_loggers.CSVLogger(\n",
    "            \"robustified_models\",\n",
    "            name=modelfolder,\n",
    "            version=\"eval_robustified_test\",\n",
    "            flush_logs_every_n_steps=1,\n",
    "        )\n",
    "        datamodule = get_datamodule(\n",
    "            dataset=dataset,\n",
    "            transform=get_transform(perturbations, p=0.5),\n",
    "            num_workers=num_workers,\n",
    "            batch_size=32,\n",
    "            seed=seed,\n",
    "        )\n",
    "        trainer = Trainer(\n",
    "            logger=loggerEvalRobustifiedTest,\n",
    "        )\n",
    "        trainer.test(model, datamodule.test_dataloader())\n",
    "\n",
    "        # evaluate robustified model on testdata + uaps\n",
    "        for perturbation_idx in range(i):\n",
    "            loggerEvalRobustifiedTestUAP = pl_loggers.CSVLogger(\n",
    "                \"robustified_models\",\n",
    "                name=modelfolder,\n",
    "                version=f\"eval_robustified_test_uap_{perturbation_idx}\",\n",
    "                flush_logs_every_n_steps=1,\n",
    "            )\n",
    "            datamodule = get_datamodule(\n",
    "                dataset=dataset,\n",
    "                transform=get_transform(perturbations, p=0.5, idx=perturbation_idx),\n",
    "                num_workers=num_workers,\n",
    "                batch_size=32,\n",
    "                seed=seed,\n",
    "            )\n",
    "            trainer = Trainer(\n",
    "                logger=loggerEvalRobustifiedTestUAP,\n",
    "            )\n",
    "            trainer.test(model, datamodule.test_dataloader())"
   ]
  },
  {
   "cell_type": "code",
   "execution_count": null,
   "metadata": {},
   "outputs": [
    {
     "name": "stdout",
     "output_type": "stream",
     "text": [
      "\n",
      "---\n",
      "Model: efficientnet_v2_m - Dataset: covidx_data\n",
      "Device: cuda\n"
     ]
    },
    {
     "data": {
      "application/vnd.jupyter.widget-view+json": {
       "model_id": "8fb59a4b101740c9802ad76c70b03d18",
       "version_major": 2,
       "version_minor": 0
      },
      "text/plain": [
       "Universal Pertubation:   0%|          | 0/3 [00:00<?, ?it/s]"
      ]
     },
     "metadata": {},
     "output_type": "display_data"
    },
    {
     "name": "stderr",
     "output_type": "stream",
     "text": [
      "/opt/conda/lib/python3.11/site-packages/torch/nn/modules/conv.py:456: UserWarning: Plan failed with a cudnnException: CUDNN_BACKEND_EXECUTION_PLAN_DESCRIPTOR: cudnnFinalize Descriptor Failed cudnn_status: CUDNN_STATUS_NOT_SUPPORTED (Triggered internally at ../aten/src/ATen/native/cudnn/Conv_v8.cpp:919.)\n",
      "  return F.conv2d(input, weight, bias, self.stride,\n",
      "GPU available: True (cuda), used: True\n",
      "TPU available: False, using: 0 TPU cores\n",
      "IPU available: False, using: 0 IPUs\n",
      "HPU available: False, using: 0 HPUs\n",
      "LOCAL_RANK: 0 - CUDA_VISIBLE_DEVICES: [0]\n"
     ]
    },
    {
     "data": {
      "application/vnd.jupyter.widget-view+json": {
       "model_id": "290432b1c33740c7ae48da39c7173e44",
       "version_major": 2,
       "version_minor": 0
      },
      "text/plain": [
       "Testing: |          | 0/? [00:00<?, ?it/s]"
      ]
     },
     "metadata": {},
     "output_type": "display_data"
    },
    {
     "data": {
      "text/html": [
       "<pre style=\"white-space:pre;overflow-x:auto;line-height:normal;font-family:Menlo,'DejaVu Sans Mono',consolas,'Courier New',monospace\">┏━━━━━━━━━━━━━━━━━━━━━━━━━━━┳━━━━━━━━━━━━━━━━━━━━━━━━━━━┓\n",
       "┃<span style=\"font-weight: bold\">        Test metric        </span>┃<span style=\"font-weight: bold\">       DataLoader 0        </span>┃\n",
       "┡━━━━━━━━━━━━━━━━━━━━━━━━━━━╇━━━━━━━━━━━━━━━━━━━━━━━━━━━┩\n",
       "│<span style=\"color: #008080; text-decoration-color: #008080\">     test_BinaryAUROC      </span>│<span style=\"color: #800080; text-decoration-color: #800080\">    0.7210594415664673     </span>│\n",
       "│<span style=\"color: #008080; text-decoration-color: #008080\">    test_BinaryAccuracy    </span>│<span style=\"color: #800080; text-decoration-color: #800080\">    0.5502240061759949     </span>│\n",
       "│<span style=\"color: #008080; text-decoration-color: #008080\">    test_BinaryF1Score     </span>│<span style=\"color: #800080; text-decoration-color: #800080\">    0.6760635375976562     </span>│\n",
       "│<span style=\"color: #008080; text-decoration-color: #008080\">   test_BinaryPrecision    </span>│<span style=\"color: #800080; text-decoration-color: #800080\">    0.5282643437385559     </span>│\n",
       "│<span style=\"color: #008080; text-decoration-color: #008080\">     test_BinaryRecall     </span>│<span style=\"color: #800080; text-decoration-color: #800080\">    0.9386937022209167     </span>│\n",
       "│<span style=\"color: #008080; text-decoration-color: #008080\">  test_BinarySpecificity   </span>│<span style=\"color: #800080; text-decoration-color: #800080\">     0.161754310131073     </span>│\n",
       "│<span style=\"color: #008080; text-decoration-color: #008080\">         test_loss         </span>│<span style=\"color: #800080; text-decoration-color: #800080\">    1.0072468519210815     </span>│\n",
       "└───────────────────────────┴───────────────────────────┘\n",
       "</pre>\n"
      ],
      "text/plain": [
       "┏━━━━━━━━━━━━━━━━━━━━━━━━━━━┳━━━━━━━━━━━━━━━━━━━━━━━━━━━┓\n",
       "┃\u001b[1m \u001b[0m\u001b[1m       Test metric       \u001b[0m\u001b[1m \u001b[0m┃\u001b[1m \u001b[0m\u001b[1m      DataLoader 0       \u001b[0m\u001b[1m \u001b[0m┃\n",
       "┡━━━━━━━━━━━━━━━━━━━━━━━━━━━╇━━━━━━━━━━━━━━━━━━━━━━━━━━━┩\n",
       "│\u001b[36m \u001b[0m\u001b[36m    test_BinaryAUROC     \u001b[0m\u001b[36m \u001b[0m│\u001b[35m \u001b[0m\u001b[35m   0.7210594415664673    \u001b[0m\u001b[35m \u001b[0m│\n",
       "│\u001b[36m \u001b[0m\u001b[36m   test_BinaryAccuracy   \u001b[0m\u001b[36m \u001b[0m│\u001b[35m \u001b[0m\u001b[35m   0.5502240061759949    \u001b[0m\u001b[35m \u001b[0m│\n",
       "│\u001b[36m \u001b[0m\u001b[36m   test_BinaryF1Score    \u001b[0m\u001b[36m \u001b[0m│\u001b[35m \u001b[0m\u001b[35m   0.6760635375976562    \u001b[0m\u001b[35m \u001b[0m│\n",
       "│\u001b[36m \u001b[0m\u001b[36m  test_BinaryPrecision   \u001b[0m\u001b[36m \u001b[0m│\u001b[35m \u001b[0m\u001b[35m   0.5282643437385559    \u001b[0m\u001b[35m \u001b[0m│\n",
       "│\u001b[36m \u001b[0m\u001b[36m    test_BinaryRecall    \u001b[0m\u001b[36m \u001b[0m│\u001b[35m \u001b[0m\u001b[35m   0.9386937022209167    \u001b[0m\u001b[35m \u001b[0m│\n",
       "│\u001b[36m \u001b[0m\u001b[36m test_BinarySpecificity  \u001b[0m\u001b[36m \u001b[0m│\u001b[35m \u001b[0m\u001b[35m    0.161754310131073    \u001b[0m\u001b[35m \u001b[0m│\n",
       "│\u001b[36m \u001b[0m\u001b[36m        test_loss        \u001b[0m\u001b[36m \u001b[0m│\u001b[35m \u001b[0m\u001b[35m   1.0072468519210815    \u001b[0m\u001b[35m \u001b[0m│\n",
       "└───────────────────────────┴───────────────────────────┘\n"
      ]
     },
     "metadata": {},
     "output_type": "display_data"
    },
    {
     "name": "stderr",
     "output_type": "stream",
     "text": [
      "GPU available: True (cuda), used: True\n",
      "TPU available: False, using: 0 TPU cores\n",
      "IPU available: False, using: 0 IPUs\n",
      "HPU available: False, using: 0 HPUs\n",
      "LOCAL_RANK: 0 - CUDA_VISIBLE_DEVICES: [0]\n"
     ]
    },
    {
     "data": {
      "application/vnd.jupyter.widget-view+json": {
       "model_id": "01f76a8e135b4c6aa58bfee100f4e96d",
       "version_major": 2,
       "version_minor": 0
      },
      "text/plain": [
       "Testing: |          | 0/? [00:00<?, ?it/s]"
      ]
     },
     "metadata": {},
     "output_type": "display_data"
    },
    {
     "data": {
      "text/html": [
       "<pre style=\"white-space:pre;overflow-x:auto;line-height:normal;font-family:Menlo,'DejaVu Sans Mono',consolas,'Courier New',monospace\">┏━━━━━━━━━━━━━━━━━━━━━━━━━━━┳━━━━━━━━━━━━━━━━━━━━━━━━━━━┓\n",
       "┃<span style=\"font-weight: bold\">        Test metric        </span>┃<span style=\"font-weight: bold\">       DataLoader 0        </span>┃\n",
       "┡━━━━━━━━━━━━━━━━━━━━━━━━━━━╇━━━━━━━━━━━━━━━━━━━━━━━━━━━┩\n",
       "│<span style=\"color: #008080; text-decoration-color: #008080\">     test_BinaryAUROC      </span>│<span style=\"color: #800080; text-decoration-color: #800080\">     0.71608966588974      </span>│\n",
       "│<span style=\"color: #008080; text-decoration-color: #008080\">    test_BinaryAccuracy    </span>│<span style=\"color: #800080; text-decoration-color: #800080\">    0.5552935600280762     </span>│\n",
       "│<span style=\"color: #008080; text-decoration-color: #008080\">    test_BinaryF1Score     </span>│<span style=\"color: #800080; text-decoration-color: #800080\">    0.6750516891479492     </span>│\n",
       "│<span style=\"color: #008080; text-decoration-color: #008080\">   test_BinaryPrecision    </span>│<span style=\"color: #800080; text-decoration-color: #800080\">    0.5318311452865601     </span>│\n",
       "│<span style=\"color: #008080; text-decoration-color: #008080\">     test_BinaryRecall     </span>│<span style=\"color: #800080; text-decoration-color: #800080\">     0.92383873462677      </span>│\n",
       "│<span style=\"color: #008080; text-decoration-color: #008080\">  test_BinarySpecificity   </span>│<span style=\"color: #800080; text-decoration-color: #800080\">    0.1867484152317047     </span>│\n",
       "│<span style=\"color: #008080; text-decoration-color: #008080\">         test_loss         </span>│<span style=\"color: #800080; text-decoration-color: #800080\">    0.9684735536575317     </span>│\n",
       "└───────────────────────────┴───────────────────────────┘\n",
       "</pre>\n"
      ],
      "text/plain": [
       "┏━━━━━━━━━━━━━━━━━━━━━━━━━━━┳━━━━━━━━━━━━━━━━━━━━━━━━━━━┓\n",
       "┃\u001b[1m \u001b[0m\u001b[1m       Test metric       \u001b[0m\u001b[1m \u001b[0m┃\u001b[1m \u001b[0m\u001b[1m      DataLoader 0       \u001b[0m\u001b[1m \u001b[0m┃\n",
       "┡━━━━━━━━━━━━━━━━━━━━━━━━━━━╇━━━━━━━━━━━━━━━━━━━━━━━━━━━┩\n",
       "│\u001b[36m \u001b[0m\u001b[36m    test_BinaryAUROC     \u001b[0m\u001b[36m \u001b[0m│\u001b[35m \u001b[0m\u001b[35m    0.71608966588974     \u001b[0m\u001b[35m \u001b[0m│\n",
       "│\u001b[36m \u001b[0m\u001b[36m   test_BinaryAccuracy   \u001b[0m\u001b[36m \u001b[0m│\u001b[35m \u001b[0m\u001b[35m   0.5552935600280762    \u001b[0m\u001b[35m \u001b[0m│\n",
       "│\u001b[36m \u001b[0m\u001b[36m   test_BinaryF1Score    \u001b[0m\u001b[36m \u001b[0m│\u001b[35m \u001b[0m\u001b[35m   0.6750516891479492    \u001b[0m\u001b[35m \u001b[0m│\n",
       "│\u001b[36m \u001b[0m\u001b[36m  test_BinaryPrecision   \u001b[0m\u001b[36m \u001b[0m│\u001b[35m \u001b[0m\u001b[35m   0.5318311452865601    \u001b[0m\u001b[35m \u001b[0m│\n",
       "│\u001b[36m \u001b[0m\u001b[36m    test_BinaryRecall    \u001b[0m\u001b[36m \u001b[0m│\u001b[35m \u001b[0m\u001b[35m    0.92383873462677     \u001b[0m\u001b[35m \u001b[0m│\n",
       "│\u001b[36m \u001b[0m\u001b[36m test_BinarySpecificity  \u001b[0m\u001b[36m \u001b[0m│\u001b[35m \u001b[0m\u001b[35m   0.1867484152317047    \u001b[0m\u001b[35m \u001b[0m│\n",
       "│\u001b[36m \u001b[0m\u001b[36m        test_loss        \u001b[0m\u001b[36m \u001b[0m│\u001b[35m \u001b[0m\u001b[35m   0.9684735536575317    \u001b[0m\u001b[35m \u001b[0m│\n",
       "└───────────────────────────┴───────────────────────────┘\n"
      ]
     },
     "metadata": {},
     "output_type": "display_data"
    },
    {
     "name": "stderr",
     "output_type": "stream",
     "text": [
      "GPU available: True (cuda), used: True\n",
      "TPU available: False, using: 0 TPU cores\n",
      "IPU available: False, using: 0 IPUs\n",
      "HPU available: False, using: 0 HPUs\n",
      "LOCAL_RANK: 0 - CUDA_VISIBLE_DEVICES: [0]\n"
     ]
    },
    {
     "data": {
      "application/vnd.jupyter.widget-view+json": {
       "model_id": "112540d9d99f4091bc8cd797a1674077",
       "version_major": 2,
       "version_minor": 0
      },
      "text/plain": [
       "Testing: |          | 0/? [00:00<?, ?it/s]"
      ]
     },
     "metadata": {},
     "output_type": "display_data"
    },
    {
     "data": {
      "text/html": [
       "<pre style=\"white-space:pre;overflow-x:auto;line-height:normal;font-family:Menlo,'DejaVu Sans Mono',consolas,'Courier New',monospace\">┏━━━━━━━━━━━━━━━━━━━━━━━━━━━┳━━━━━━━━━━━━━━━━━━━━━━━━━━━┓\n",
       "┃<span style=\"font-weight: bold\">        Test metric        </span>┃<span style=\"font-weight: bold\">       DataLoader 0        </span>┃\n",
       "┡━━━━━━━━━━━━━━━━━━━━━━━━━━━╇━━━━━━━━━━━━━━━━━━━━━━━━━━━┩\n",
       "│<span style=\"color: #008080; text-decoration-color: #008080\">     test_BinaryAUROC      </span>│<span style=\"color: #800080; text-decoration-color: #800080\">    0.7160893678665161     </span>│\n",
       "│<span style=\"color: #008080; text-decoration-color: #008080\">    test_BinaryAccuracy    </span>│<span style=\"color: #800080; text-decoration-color: #800080\">    0.5552935600280762     </span>│\n",
       "│<span style=\"color: #008080; text-decoration-color: #008080\">    test_BinaryF1Score     </span>│<span style=\"color: #800080; text-decoration-color: #800080\">    0.6750516891479492     </span>│\n",
       "│<span style=\"color: #008080; text-decoration-color: #008080\">   test_BinaryPrecision    </span>│<span style=\"color: #800080; text-decoration-color: #800080\">    0.5318311452865601     </span>│\n",
       "│<span style=\"color: #008080; text-decoration-color: #008080\">     test_BinaryRecall     </span>│<span style=\"color: #800080; text-decoration-color: #800080\">     0.92383873462677      </span>│\n",
       "│<span style=\"color: #008080; text-decoration-color: #008080\">  test_BinarySpecificity   </span>│<span style=\"color: #800080; text-decoration-color: #800080\">    0.1867484152317047     </span>│\n",
       "│<span style=\"color: #008080; text-decoration-color: #008080\">         test_loss         </span>│<span style=\"color: #800080; text-decoration-color: #800080\">    0.9684715867042542     </span>│\n",
       "└───────────────────────────┴───────────────────────────┘\n",
       "</pre>\n"
      ],
      "text/plain": [
       "┏━━━━━━━━━━━━━━━━━━━━━━━━━━━┳━━━━━━━━━━━━━━━━━━━━━━━━━━━┓\n",
       "┃\u001b[1m \u001b[0m\u001b[1m       Test metric       \u001b[0m\u001b[1m \u001b[0m┃\u001b[1m \u001b[0m\u001b[1m      DataLoader 0       \u001b[0m\u001b[1m \u001b[0m┃\n",
       "┡━━━━━━━━━━━━━━━━━━━━━━━━━━━╇━━━━━━━━━━━━━━━━━━━━━━━━━━━┩\n",
       "│\u001b[36m \u001b[0m\u001b[36m    test_BinaryAUROC     \u001b[0m\u001b[36m \u001b[0m│\u001b[35m \u001b[0m\u001b[35m   0.7160893678665161    \u001b[0m\u001b[35m \u001b[0m│\n",
       "│\u001b[36m \u001b[0m\u001b[36m   test_BinaryAccuracy   \u001b[0m\u001b[36m \u001b[0m│\u001b[35m \u001b[0m\u001b[35m   0.5552935600280762    \u001b[0m\u001b[35m \u001b[0m│\n",
       "│\u001b[36m \u001b[0m\u001b[36m   test_BinaryF1Score    \u001b[0m\u001b[36m \u001b[0m│\u001b[35m \u001b[0m\u001b[35m   0.6750516891479492    \u001b[0m\u001b[35m \u001b[0m│\n",
       "│\u001b[36m \u001b[0m\u001b[36m  test_BinaryPrecision   \u001b[0m\u001b[36m \u001b[0m│\u001b[35m \u001b[0m\u001b[35m   0.5318311452865601    \u001b[0m\u001b[35m \u001b[0m│\n",
       "│\u001b[36m \u001b[0m\u001b[36m    test_BinaryRecall    \u001b[0m\u001b[36m \u001b[0m│\u001b[35m \u001b[0m\u001b[35m    0.92383873462677     \u001b[0m\u001b[35m \u001b[0m│\n",
       "│\u001b[36m \u001b[0m\u001b[36m test_BinarySpecificity  \u001b[0m\u001b[36m \u001b[0m│\u001b[35m \u001b[0m\u001b[35m   0.1867484152317047    \u001b[0m\u001b[35m \u001b[0m│\n",
       "│\u001b[36m \u001b[0m\u001b[36m        test_loss        \u001b[0m\u001b[36m \u001b[0m│\u001b[35m \u001b[0m\u001b[35m   0.9684715867042542    \u001b[0m\u001b[35m \u001b[0m│\n",
       "└───────────────────────────┴───────────────────────────┘\n"
      ]
     },
     "metadata": {},
     "output_type": "display_data"
    },
    {
     "name": "stderr",
     "output_type": "stream",
     "text": [
      "GPU available: True (cuda), used: True\n",
      "TPU available: False, using: 0 TPU cores\n",
      "IPU available: False, using: 0 IPUs\n",
      "HPU available: False, using: 0 HPUs\n",
      "LOCAL_RANK: 0 - CUDA_VISIBLE_DEVICES: [0]\n"
     ]
    },
    {
     "data": {
      "application/vnd.jupyter.widget-view+json": {
       "model_id": "a030ffc8a3404059ba9a6bf3f28f3eb4",
       "version_major": 2,
       "version_minor": 0
      },
      "text/plain": [
       "Testing: |          | 0/? [00:00<?, ?it/s]"
      ]
     },
     "metadata": {},
     "output_type": "display_data"
    },
    {
     "data": {
      "text/html": [
       "<pre style=\"white-space:pre;overflow-x:auto;line-height:normal;font-family:Menlo,'DejaVu Sans Mono',consolas,'Courier New',monospace\">┏━━━━━━━━━━━━━━━━━━━━━━━━━━━┳━━━━━━━━━━━━━━━━━━━━━━━━━━━┓\n",
       "┃<span style=\"font-weight: bold\">        Test metric        </span>┃<span style=\"font-weight: bold\">       DataLoader 0        </span>┃\n",
       "┡━━━━━━━━━━━━━━━━━━━━━━━━━━━╇━━━━━━━━━━━━━━━━━━━━━━━━━━━┩\n",
       "│<span style=\"color: #008080; text-decoration-color: #008080\">     test_BinaryAUROC      </span>│<span style=\"color: #800080; text-decoration-color: #800080\">    0.7160904407501221     </span>│\n",
       "│<span style=\"color: #008080; text-decoration-color: #008080\">    test_BinaryAccuracy    </span>│<span style=\"color: #800080; text-decoration-color: #800080\">    0.5552935600280762     </span>│\n",
       "│<span style=\"color: #008080; text-decoration-color: #008080\">    test_BinaryF1Score     </span>│<span style=\"color: #800080; text-decoration-color: #800080\">    0.6750516891479492     </span>│\n",
       "│<span style=\"color: #008080; text-decoration-color: #008080\">   test_BinaryPrecision    </span>│<span style=\"color: #800080; text-decoration-color: #800080\">    0.5318311452865601     </span>│\n",
       "│<span style=\"color: #008080; text-decoration-color: #008080\">     test_BinaryRecall     </span>│<span style=\"color: #800080; text-decoration-color: #800080\">     0.92383873462677      </span>│\n",
       "│<span style=\"color: #008080; text-decoration-color: #008080\">  test_BinarySpecificity   </span>│<span style=\"color: #800080; text-decoration-color: #800080\">    0.1867484152317047     </span>│\n",
       "│<span style=\"color: #008080; text-decoration-color: #008080\">         test_loss         </span>│<span style=\"color: #800080; text-decoration-color: #800080\">    0.9684733152389526     </span>│\n",
       "└───────────────────────────┴───────────────────────────┘\n",
       "</pre>\n"
      ],
      "text/plain": [
       "┏━━━━━━━━━━━━━━━━━━━━━━━━━━━┳━━━━━━━━━━━━━━━━━━━━━━━━━━━┓\n",
       "┃\u001b[1m \u001b[0m\u001b[1m       Test metric       \u001b[0m\u001b[1m \u001b[0m┃\u001b[1m \u001b[0m\u001b[1m      DataLoader 0       \u001b[0m\u001b[1m \u001b[0m┃\n",
       "┡━━━━━━━━━━━━━━━━━━━━━━━━━━━╇━━━━━━━━━━━━━━━━━━━━━━━━━━━┩\n",
       "│\u001b[36m \u001b[0m\u001b[36m    test_BinaryAUROC     \u001b[0m\u001b[36m \u001b[0m│\u001b[35m \u001b[0m\u001b[35m   0.7160904407501221    \u001b[0m\u001b[35m \u001b[0m│\n",
       "│\u001b[36m \u001b[0m\u001b[36m   test_BinaryAccuracy   \u001b[0m\u001b[36m \u001b[0m│\u001b[35m \u001b[0m\u001b[35m   0.5552935600280762    \u001b[0m\u001b[35m \u001b[0m│\n",
       "│\u001b[36m \u001b[0m\u001b[36m   test_BinaryF1Score    \u001b[0m\u001b[36m \u001b[0m│\u001b[35m \u001b[0m\u001b[35m   0.6750516891479492    \u001b[0m\u001b[35m \u001b[0m│\n",
       "│\u001b[36m \u001b[0m\u001b[36m  test_BinaryPrecision   \u001b[0m\u001b[36m \u001b[0m│\u001b[35m \u001b[0m\u001b[35m   0.5318311452865601    \u001b[0m\u001b[35m \u001b[0m│\n",
       "│\u001b[36m \u001b[0m\u001b[36m    test_BinaryRecall    \u001b[0m\u001b[36m \u001b[0m│\u001b[35m \u001b[0m\u001b[35m    0.92383873462677     \u001b[0m\u001b[35m \u001b[0m│\n",
       "│\u001b[36m \u001b[0m\u001b[36m test_BinarySpecificity  \u001b[0m\u001b[36m \u001b[0m│\u001b[35m \u001b[0m\u001b[35m   0.1867484152317047    \u001b[0m\u001b[35m \u001b[0m│\n",
       "│\u001b[36m \u001b[0m\u001b[36m        test_loss        \u001b[0m\u001b[36m \u001b[0m│\u001b[35m \u001b[0m\u001b[35m   0.9684733152389526    \u001b[0m\u001b[35m \u001b[0m│\n",
       "└───────────────────────────┴───────────────────────────┘\n"
      ]
     },
     "metadata": {},
     "output_type": "display_data"
    },
    {
     "name": "stderr",
     "output_type": "stream",
     "text": [
      "GPU available: True (cuda), used: True\n",
      "TPU available: False, using: 0 TPU cores\n",
      "IPU available: False, using: 0 IPUs\n",
      "HPU available: False, using: 0 HPUs\n",
      "LOCAL_RANK: 0 - CUDA_VISIBLE_DEVICES: [0]\n",
      "\n",
      "  | Name    | Type             | Params\n",
      "---------------------------------------------\n",
      "0 | metrics | MetricCollection | 0     \n",
      "1 | model   | EfficientNet     | 52.9 M\n",
      "---------------------------------------------\n",
      "52.9 M    Trainable params\n",
      "0         Non-trainable params\n",
      "52.9 M    Total params\n",
      "211.439   Total estimated model params size (MB)\n"
     ]
    },
    {
     "data": {
      "application/vnd.jupyter.widget-view+json": {
       "model_id": "",
       "version_major": 2,
       "version_minor": 0
      },
      "text/plain": [
       "Sanity Checking: |          | 0/? [00:00<?, ?it/s]"
      ]
     },
     "metadata": {},
     "output_type": "display_data"
    },
    {
     "name": "stderr",
     "output_type": "stream",
     "text": [
      "/opt/conda/lib/python3.11/site-packages/torchmetrics/utilities/prints.py:43: UserWarning: No negative samples in targets, false positive value should be meaningless. Returning zero tensor in false positive score\n",
      "  warnings.warn(*args, **kwargs)  # noqa: B028\n"
     ]
    },
    {
     "data": {
      "application/vnd.jupyter.widget-view+json": {
       "model_id": "dd7617ae573c42b9b3b49ab930c26502",
       "version_major": 2,
       "version_minor": 0
      },
      "text/plain": [
       "Training: |          | 0/? [00:00<?, ?it/s]"
      ]
     },
     "metadata": {},
     "output_type": "display_data"
    },
    {
     "name": "stderr",
     "output_type": "stream",
     "text": [
      "/opt/conda/lib/python3.11/site-packages/torch/autograd/graph.py:744: UserWarning: Plan failed with a cudnnException: CUDNN_BACKEND_EXECUTION_PLAN_DESCRIPTOR: cudnnFinalize Descriptor Failed cudnn_status: CUDNN_STATUS_NOT_SUPPORTED (Triggered internally at ../aten/src/ATen/native/cudnn/Conv_v8.cpp:919.)\n",
      "  return Variable._execution_engine.run_backward(  # Calls into the C++ engine to run the backward pass\n"
     ]
    },
    {
     "data": {
      "application/vnd.jupyter.widget-view+json": {
       "model_id": "",
       "version_major": 2,
       "version_minor": 0
      },
      "text/plain": [
       "Validation: |          | 0/? [00:00<?, ?it/s]"
      ]
     },
     "metadata": {},
     "output_type": "display_data"
    },
    {
     "name": "stderr",
     "output_type": "stream",
     "text": [
      "/opt/conda/lib/python3.11/site-packages/lightning/pytorch/trainer/call.py:54: Detected KeyboardInterrupt, attempting graceful shutdown...\n",
      "GPU available: True (cuda), used: True\n",
      "TPU available: False, using: 0 TPU cores\n",
      "IPU available: False, using: 0 IPUs\n",
      "HPU available: False, using: 0 HPUs\n",
      "LOCAL_RANK: 0 - CUDA_VISIBLE_DEVICES: [0]\n"
     ]
    },
    {
     "data": {
      "application/vnd.jupyter.widget-view+json": {
       "model_id": "cb755df234dd48c9b81c491be9204b46",
       "version_major": 2,
       "version_minor": 0
      },
      "text/plain": [
       "Testing: |          | 0/? [00:00<?, ?it/s]"
      ]
     },
     "metadata": {},
     "output_type": "display_data"
    },
    {
     "data": {
      "text/html": [
       "<pre style=\"white-space:pre;overflow-x:auto;line-height:normal;font-family:Menlo,'DejaVu Sans Mono',consolas,'Courier New',monospace\">┏━━━━━━━━━━━━━━━━━━━━━━━━━━━┳━━━━━━━━━━━━━━━━━━━━━━━━━━━┓\n",
       "┃<span style=\"font-weight: bold\">        Test metric        </span>┃<span style=\"font-weight: bold\">       DataLoader 0        </span>┃\n",
       "┡━━━━━━━━━━━━━━━━━━━━━━━━━━━╇━━━━━━━━━━━━━━━━━━━━━━━━━━━┩\n",
       "│<span style=\"color: #008080; text-decoration-color: #008080\">     test_BinaryAUROC      </span>│<span style=\"color: #800080; text-decoration-color: #800080\">    0.6839497089385986     </span>│\n",
       "│<span style=\"color: #008080; text-decoration-color: #008080\">    test_BinaryAccuracy    </span>│<span style=\"color: #800080; text-decoration-color: #800080\">    0.5353690385818481     </span>│\n",
       "│<span style=\"color: #008080; text-decoration-color: #008080\">    test_BinaryF1Score     </span>│<span style=\"color: #800080; text-decoration-color: #800080\">     0.671336829662323     </span>│\n",
       "│<span style=\"color: #008080; text-decoration-color: #008080\">   test_BinaryPrecision    </span>│<span style=\"color: #800080; text-decoration-color: #800080\">    0.5193548202514648     </span>│\n",
       "│<span style=\"color: #008080; text-decoration-color: #008080\">     test_BinaryRecall     </span>│<span style=\"color: #800080; text-decoration-color: #800080\">    0.9490686058998108     </span>│\n",
       "│<span style=\"color: #008080; text-decoration-color: #008080\">  test_BinarySpecificity   </span>│<span style=\"color: #800080; text-decoration-color: #800080\">    0.12166941910982132    </span>│\n",
       "│<span style=\"color: #008080; text-decoration-color: #008080\">         test_loss         </span>│<span style=\"color: #800080; text-decoration-color: #800080\">    1.1360194683074951     </span>│\n",
       "└───────────────────────────┴───────────────────────────┘\n",
       "</pre>\n"
      ],
      "text/plain": [
       "┏━━━━━━━━━━━━━━━━━━━━━━━━━━━┳━━━━━━━━━━━━━━━━━━━━━━━━━━━┓\n",
       "┃\u001b[1m \u001b[0m\u001b[1m       Test metric       \u001b[0m\u001b[1m \u001b[0m┃\u001b[1m \u001b[0m\u001b[1m      DataLoader 0       \u001b[0m\u001b[1m \u001b[0m┃\n",
       "┡━━━━━━━━━━━━━━━━━━━━━━━━━━━╇━━━━━━━━━━━━━━━━━━━━━━━━━━━┩\n",
       "│\u001b[36m \u001b[0m\u001b[36m    test_BinaryAUROC     \u001b[0m\u001b[36m \u001b[0m│\u001b[35m \u001b[0m\u001b[35m   0.6839497089385986    \u001b[0m\u001b[35m \u001b[0m│\n",
       "│\u001b[36m \u001b[0m\u001b[36m   test_BinaryAccuracy   \u001b[0m\u001b[36m \u001b[0m│\u001b[35m \u001b[0m\u001b[35m   0.5353690385818481    \u001b[0m\u001b[35m \u001b[0m│\n",
       "│\u001b[36m \u001b[0m\u001b[36m   test_BinaryF1Score    \u001b[0m\u001b[36m \u001b[0m│\u001b[35m \u001b[0m\u001b[35m    0.671336829662323    \u001b[0m\u001b[35m \u001b[0m│\n",
       "│\u001b[36m \u001b[0m\u001b[36m  test_BinaryPrecision   \u001b[0m\u001b[36m \u001b[0m│\u001b[35m \u001b[0m\u001b[35m   0.5193548202514648    \u001b[0m\u001b[35m \u001b[0m│\n",
       "│\u001b[36m \u001b[0m\u001b[36m    test_BinaryRecall    \u001b[0m\u001b[36m \u001b[0m│\u001b[35m \u001b[0m\u001b[35m   0.9490686058998108    \u001b[0m\u001b[35m \u001b[0m│\n",
       "│\u001b[36m \u001b[0m\u001b[36m test_BinarySpecificity  \u001b[0m\u001b[36m \u001b[0m│\u001b[35m \u001b[0m\u001b[35m   0.12166941910982132   \u001b[0m\u001b[35m \u001b[0m│\n",
       "│\u001b[36m \u001b[0m\u001b[36m        test_loss        \u001b[0m\u001b[36m \u001b[0m│\u001b[35m \u001b[0m\u001b[35m   1.1360194683074951    \u001b[0m\u001b[35m \u001b[0m│\n",
       "└───────────────────────────┴───────────────────────────┘\n"
      ]
     },
     "metadata": {},
     "output_type": "display_data"
    },
    {
     "name": "stderr",
     "output_type": "stream",
     "text": [
      "GPU available: True (cuda), used: True\n",
      "TPU available: False, using: 0 TPU cores\n",
      "IPU available: False, using: 0 IPUs\n",
      "HPU available: False, using: 0 HPUs\n",
      "LOCAL_RANK: 0 - CUDA_VISIBLE_DEVICES: [0]\n"
     ]
    },
    {
     "data": {
      "application/vnd.jupyter.widget-view+json": {
       "model_id": "ca685f149e6d4218bb825c8a7e57a66f",
       "version_major": 2,
       "version_minor": 0
      },
      "text/plain": [
       "Testing: |          | 0/? [00:00<?, ?it/s]"
      ]
     },
     "metadata": {},
     "output_type": "display_data"
    },
    {
     "data": {
      "text/html": [
       "<pre style=\"white-space:pre;overflow-x:auto;line-height:normal;font-family:Menlo,'DejaVu Sans Mono',consolas,'Courier New',monospace\">┏━━━━━━━━━━━━━━━━━━━━━━━━━━━┳━━━━━━━━━━━━━━━━━━━━━━━━━━━┓\n",
       "┃<span style=\"font-weight: bold\">        Test metric        </span>┃<span style=\"font-weight: bold\">       DataLoader 0        </span>┃\n",
       "┡━━━━━━━━━━━━━━━━━━━━━━━━━━━╇━━━━━━━━━━━━━━━━━━━━━━━━━━━┩\n",
       "│<span style=\"color: #008080; text-decoration-color: #008080\">     test_BinaryAUROC      </span>│<span style=\"color: #800080; text-decoration-color: #800080\">    0.6803677082061768     </span>│\n",
       "│<span style=\"color: #008080; text-decoration-color: #008080\">    test_BinaryAccuracy    </span>│<span style=\"color: #800080; text-decoration-color: #800080\">    0.5364300608634949     </span>│\n",
       "│<span style=\"color: #008080; text-decoration-color: #008080\">    test_BinaryF1Score     </span>│<span style=\"color: #800080; text-decoration-color: #800080\">    0.6699681282043457     </span>│\n",
       "│<span style=\"color: #008080; text-decoration-color: #008080\">   test_BinaryPrecision    </span>│<span style=\"color: #800080; text-decoration-color: #800080\">    0.5201355218887329     </span>│\n",
       "│<span style=\"color: #008080; text-decoration-color: #008080\">     test_BinaryRecall     </span>│<span style=\"color: #800080; text-decoration-color: #800080\">    0.9410516619682312     </span>│\n",
       "│<span style=\"color: #008080; text-decoration-color: #008080\">  test_BinarySpecificity   </span>│<span style=\"color: #800080; text-decoration-color: #800080\">    0.13180853426456451    </span>│\n",
       "│<span style=\"color: #008080; text-decoration-color: #008080\">         test_loss         </span>│<span style=\"color: #800080; text-decoration-color: #800080\">    1.1148041486740112     </span>│\n",
       "└───────────────────────────┴───────────────────────────┘\n",
       "</pre>\n"
      ],
      "text/plain": [
       "┏━━━━━━━━━━━━━━━━━━━━━━━━━━━┳━━━━━━━━━━━━━━━━━━━━━━━━━━━┓\n",
       "┃\u001b[1m \u001b[0m\u001b[1m       Test metric       \u001b[0m\u001b[1m \u001b[0m┃\u001b[1m \u001b[0m\u001b[1m      DataLoader 0       \u001b[0m\u001b[1m \u001b[0m┃\n",
       "┡━━━━━━━━━━━━━━━━━━━━━━━━━━━╇━━━━━━━━━━━━━━━━━━━━━━━━━━━┩\n",
       "│\u001b[36m \u001b[0m\u001b[36m    test_BinaryAUROC     \u001b[0m\u001b[36m \u001b[0m│\u001b[35m \u001b[0m\u001b[35m   0.6803677082061768    \u001b[0m\u001b[35m \u001b[0m│\n",
       "│\u001b[36m \u001b[0m\u001b[36m   test_BinaryAccuracy   \u001b[0m\u001b[36m \u001b[0m│\u001b[35m \u001b[0m\u001b[35m   0.5364300608634949    \u001b[0m\u001b[35m \u001b[0m│\n",
       "│\u001b[36m \u001b[0m\u001b[36m   test_BinaryF1Score    \u001b[0m\u001b[36m \u001b[0m│\u001b[35m \u001b[0m\u001b[35m   0.6699681282043457    \u001b[0m\u001b[35m \u001b[0m│\n",
       "│\u001b[36m \u001b[0m\u001b[36m  test_BinaryPrecision   \u001b[0m\u001b[36m \u001b[0m│\u001b[35m \u001b[0m\u001b[35m   0.5201355218887329    \u001b[0m\u001b[35m \u001b[0m│\n",
       "│\u001b[36m \u001b[0m\u001b[36m    test_BinaryRecall    \u001b[0m\u001b[36m \u001b[0m│\u001b[35m \u001b[0m\u001b[35m   0.9410516619682312    \u001b[0m\u001b[35m \u001b[0m│\n",
       "│\u001b[36m \u001b[0m\u001b[36m test_BinarySpecificity  \u001b[0m\u001b[36m \u001b[0m│\u001b[35m \u001b[0m\u001b[35m   0.13180853426456451   \u001b[0m\u001b[35m \u001b[0m│\n",
       "│\u001b[36m \u001b[0m\u001b[36m        test_loss        \u001b[0m\u001b[36m \u001b[0m│\u001b[35m \u001b[0m\u001b[35m   1.1148041486740112    \u001b[0m\u001b[35m \u001b[0m│\n",
       "└───────────────────────────┴───────────────────────────┘\n"
      ]
     },
     "metadata": {},
     "output_type": "display_data"
    },
    {
     "name": "stderr",
     "output_type": "stream",
     "text": [
      "GPU available: True (cuda), used: True\n",
      "TPU available: False, using: 0 TPU cores\n",
      "IPU available: False, using: 0 IPUs\n",
      "HPU available: False, using: 0 HPUs\n",
      "LOCAL_RANK: 0 - CUDA_VISIBLE_DEVICES: [0]\n"
     ]
    },
    {
     "data": {
      "application/vnd.jupyter.widget-view+json": {
       "model_id": "79d60e8d5e064c38ba210a7011b317fa",
       "version_major": 2,
       "version_minor": 0
      },
      "text/plain": [
       "Testing: |          | 0/? [00:00<?, ?it/s]"
      ]
     },
     "metadata": {},
     "output_type": "display_data"
    },
    {
     "data": {
      "text/html": [
       "<pre style=\"white-space:pre;overflow-x:auto;line-height:normal;font-family:Menlo,'DejaVu Sans Mono',consolas,'Courier New',monospace\">┏━━━━━━━━━━━━━━━━━━━━━━━━━━━┳━━━━━━━━━━━━━━━━━━━━━━━━━━━┓\n",
       "┃<span style=\"font-weight: bold\">        Test metric        </span>┃<span style=\"font-weight: bold\">       DataLoader 0        </span>┃\n",
       "┡━━━━━━━━━━━━━━━━━━━━━━━━━━━╇━━━━━━━━━━━━━━━━━━━━━━━━━━━┩\n",
       "│<span style=\"color: #008080; text-decoration-color: #008080\">     test_BinaryAUROC      </span>│<span style=\"color: #800080; text-decoration-color: #800080\">    0.6803678274154663     </span>│\n",
       "│<span style=\"color: #008080; text-decoration-color: #008080\">    test_BinaryAccuracy    </span>│<span style=\"color: #800080; text-decoration-color: #800080\">    0.5364300608634949     </span>│\n",
       "│<span style=\"color: #008080; text-decoration-color: #008080\">    test_BinaryF1Score     </span>│<span style=\"color: #800080; text-decoration-color: #800080\">    0.6699681282043457     </span>│\n",
       "│<span style=\"color: #008080; text-decoration-color: #008080\">   test_BinaryPrecision    </span>│<span style=\"color: #800080; text-decoration-color: #800080\">    0.5201355218887329     </span>│\n",
       "│<span style=\"color: #008080; text-decoration-color: #008080\">     test_BinaryRecall     </span>│<span style=\"color: #800080; text-decoration-color: #800080\">    0.9410516619682312     </span>│\n",
       "│<span style=\"color: #008080; text-decoration-color: #008080\">  test_BinarySpecificity   </span>│<span style=\"color: #800080; text-decoration-color: #800080\">    0.13180853426456451    </span>│\n",
       "│<span style=\"color: #008080; text-decoration-color: #008080\">         test_loss         </span>│<span style=\"color: #800080; text-decoration-color: #800080\">    1.1148029565811157     </span>│\n",
       "└───────────────────────────┴───────────────────────────┘\n",
       "</pre>\n"
      ],
      "text/plain": [
       "┏━━━━━━━━━━━━━━━━━━━━━━━━━━━┳━━━━━━━━━━━━━━━━━━━━━━━━━━━┓\n",
       "┃\u001b[1m \u001b[0m\u001b[1m       Test metric       \u001b[0m\u001b[1m \u001b[0m┃\u001b[1m \u001b[0m\u001b[1m      DataLoader 0       \u001b[0m\u001b[1m \u001b[0m┃\n",
       "┡━━━━━━━━━━━━━━━━━━━━━━━━━━━╇━━━━━━━━━━━━━━━━━━━━━━━━━━━┩\n",
       "│\u001b[36m \u001b[0m\u001b[36m    test_BinaryAUROC     \u001b[0m\u001b[36m \u001b[0m│\u001b[35m \u001b[0m\u001b[35m   0.6803678274154663    \u001b[0m\u001b[35m \u001b[0m│\n",
       "│\u001b[36m \u001b[0m\u001b[36m   test_BinaryAccuracy   \u001b[0m\u001b[36m \u001b[0m│\u001b[35m \u001b[0m\u001b[35m   0.5364300608634949    \u001b[0m\u001b[35m \u001b[0m│\n",
       "│\u001b[36m \u001b[0m\u001b[36m   test_BinaryF1Score    \u001b[0m\u001b[36m \u001b[0m│\u001b[35m \u001b[0m\u001b[35m   0.6699681282043457    \u001b[0m\u001b[35m \u001b[0m│\n",
       "│\u001b[36m \u001b[0m\u001b[36m  test_BinaryPrecision   \u001b[0m\u001b[36m \u001b[0m│\u001b[35m \u001b[0m\u001b[35m   0.5201355218887329    \u001b[0m\u001b[35m \u001b[0m│\n",
       "│\u001b[36m \u001b[0m\u001b[36m    test_BinaryRecall    \u001b[0m\u001b[36m \u001b[0m│\u001b[35m \u001b[0m\u001b[35m   0.9410516619682312    \u001b[0m\u001b[35m \u001b[0m│\n",
       "│\u001b[36m \u001b[0m\u001b[36m test_BinarySpecificity  \u001b[0m\u001b[36m \u001b[0m│\u001b[35m \u001b[0m\u001b[35m   0.13180853426456451   \u001b[0m\u001b[35m \u001b[0m│\n",
       "│\u001b[36m \u001b[0m\u001b[36m        test_loss        \u001b[0m\u001b[36m \u001b[0m│\u001b[35m \u001b[0m\u001b[35m   1.1148029565811157    \u001b[0m\u001b[35m \u001b[0m│\n",
       "└───────────────────────────┴───────────────────────────┘\n"
      ]
     },
     "metadata": {},
     "output_type": "display_data"
    },
    {
     "name": "stderr",
     "output_type": "stream",
     "text": [
      "GPU available: True (cuda), used: True\n",
      "TPU available: False, using: 0 TPU cores\n",
      "IPU available: False, using: 0 IPUs\n",
      "HPU available: False, using: 0 HPUs\n",
      "LOCAL_RANK: 0 - CUDA_VISIBLE_DEVICES: [0]\n"
     ]
    },
    {
     "data": {
      "application/vnd.jupyter.widget-view+json": {
       "model_id": "ba7e2c80e7e346ba9fa845680e6c0e50",
       "version_major": 2,
       "version_minor": 0
      },
      "text/plain": [
       "Testing: |          | 0/? [00:00<?, ?it/s]"
      ]
     },
     "metadata": {},
     "output_type": "display_data"
    },
    {
     "data": {
      "text/html": [
       "<pre style=\"white-space:pre;overflow-x:auto;line-height:normal;font-family:Menlo,'DejaVu Sans Mono',consolas,'Courier New',monospace\">┏━━━━━━━━━━━━━━━━━━━━━━━━━━━┳━━━━━━━━━━━━━━━━━━━━━━━━━━━┓\n",
       "┃<span style=\"font-weight: bold\">        Test metric        </span>┃<span style=\"font-weight: bold\">       DataLoader 0        </span>┃\n",
       "┡━━━━━━━━━━━━━━━━━━━━━━━━━━━╇━━━━━━━━━━━━━━━━━━━━━━━━━━━┩\n",
       "│<span style=\"color: #008080; text-decoration-color: #008080\">     test_BinaryAUROC      </span>│<span style=\"color: #800080; text-decoration-color: #800080\">    0.6803680658340454     </span>│\n",
       "│<span style=\"color: #008080; text-decoration-color: #008080\">    test_BinaryAccuracy    </span>│<span style=\"color: #800080; text-decoration-color: #800080\">    0.5364300608634949     </span>│\n",
       "│<span style=\"color: #008080; text-decoration-color: #008080\">    test_BinaryF1Score     </span>│<span style=\"color: #800080; text-decoration-color: #800080\">    0.6699681282043457     </span>│\n",
       "│<span style=\"color: #008080; text-decoration-color: #008080\">   test_BinaryPrecision    </span>│<span style=\"color: #800080; text-decoration-color: #800080\">    0.5201355218887329     </span>│\n",
       "│<span style=\"color: #008080; text-decoration-color: #008080\">     test_BinaryRecall     </span>│<span style=\"color: #800080; text-decoration-color: #800080\">    0.9410516619682312     </span>│\n",
       "│<span style=\"color: #008080; text-decoration-color: #008080\">  test_BinarySpecificity   </span>│<span style=\"color: #800080; text-decoration-color: #800080\">    0.13180853426456451    </span>│\n",
       "│<span style=\"color: #008080; text-decoration-color: #008080\">         test_loss         </span>│<span style=\"color: #800080; text-decoration-color: #800080\">    1.1148030757904053     </span>│\n",
       "└───────────────────────────┴───────────────────────────┘\n",
       "</pre>\n"
      ],
      "text/plain": [
       "┏━━━━━━━━━━━━━━━━━━━━━━━━━━━┳━━━━━━━━━━━━━━━━━━━━━━━━━━━┓\n",
       "┃\u001b[1m \u001b[0m\u001b[1m       Test metric       \u001b[0m\u001b[1m \u001b[0m┃\u001b[1m \u001b[0m\u001b[1m      DataLoader 0       \u001b[0m\u001b[1m \u001b[0m┃\n",
       "┡━━━━━━━━━━━━━━━━━━━━━━━━━━━╇━━━━━━━━━━━━━━━━━━━━━━━━━━━┩\n",
       "│\u001b[36m \u001b[0m\u001b[36m    test_BinaryAUROC     \u001b[0m\u001b[36m \u001b[0m│\u001b[35m \u001b[0m\u001b[35m   0.6803680658340454    \u001b[0m\u001b[35m \u001b[0m│\n",
       "│\u001b[36m \u001b[0m\u001b[36m   test_BinaryAccuracy   \u001b[0m\u001b[36m \u001b[0m│\u001b[35m \u001b[0m\u001b[35m   0.5364300608634949    \u001b[0m\u001b[35m \u001b[0m│\n",
       "│\u001b[36m \u001b[0m\u001b[36m   test_BinaryF1Score    \u001b[0m\u001b[36m \u001b[0m│\u001b[35m \u001b[0m\u001b[35m   0.6699681282043457    \u001b[0m\u001b[35m \u001b[0m│\n",
       "│\u001b[36m \u001b[0m\u001b[36m  test_BinaryPrecision   \u001b[0m\u001b[36m \u001b[0m│\u001b[35m \u001b[0m\u001b[35m   0.5201355218887329    \u001b[0m\u001b[35m \u001b[0m│\n",
       "│\u001b[36m \u001b[0m\u001b[36m    test_BinaryRecall    \u001b[0m\u001b[36m \u001b[0m│\u001b[35m \u001b[0m\u001b[35m   0.9410516619682312    \u001b[0m\u001b[35m \u001b[0m│\n",
       "│\u001b[36m \u001b[0m\u001b[36m test_BinarySpecificity  \u001b[0m\u001b[36m \u001b[0m│\u001b[35m \u001b[0m\u001b[35m   0.13180853426456451   \u001b[0m\u001b[35m \u001b[0m│\n",
       "│\u001b[36m \u001b[0m\u001b[36m        test_loss        \u001b[0m\u001b[36m \u001b[0m│\u001b[35m \u001b[0m\u001b[35m   1.1148030757904053    \u001b[0m\u001b[35m \u001b[0m│\n",
       "└───────────────────────────┴───────────────────────────┘\n"
      ]
     },
     "metadata": {},
     "output_type": "display_data"
    },
    {
     "data": {
      "application/vnd.jupyter.widget-view+json": {
       "model_id": "37dbee1827234f10965ed4efea296cf3",
       "version_major": 2,
       "version_minor": 0
      },
      "text/plain": [
       "Universal Pertubation:   0%|          | 0/3 [00:00<?, ?it/s]"
      ]
     },
     "metadata": {},
     "output_type": "display_data"
    },
    {
     "name": "stderr",
     "output_type": "stream",
     "text": [
      "GPU available: True (cuda), used: True\n",
      "TPU available: False, using: 0 TPU cores\n",
      "IPU available: False, using: 0 IPUs\n",
      "HPU available: False, using: 0 HPUs\n",
      "LOCAL_RANK: 0 - CUDA_VISIBLE_DEVICES: [0]\n"
     ]
    },
    {
     "data": {
      "application/vnd.jupyter.widget-view+json": {
       "model_id": "eeeada84d9e04edba47380844038aecb",
       "version_major": 2,
       "version_minor": 0
      },
      "text/plain": [
       "Testing: |          | 0/? [00:00<?, ?it/s]"
      ]
     },
     "metadata": {},
     "output_type": "display_data"
    },
    {
     "data": {
      "text/html": [
       "<pre style=\"white-space:pre;overflow-x:auto;line-height:normal;font-family:Menlo,'DejaVu Sans Mono',consolas,'Courier New',monospace\">┏━━━━━━━━━━━━━━━━━━━━━━━━━━━┳━━━━━━━━━━━━━━━━━━━━━━━━━━━┓\n",
       "┃<span style=\"font-weight: bold\">        Test metric        </span>┃<span style=\"font-weight: bold\">       DataLoader 0        </span>┃\n",
       "┡━━━━━━━━━━━━━━━━━━━━━━━━━━━╇━━━━━━━━━━━━━━━━━━━━━━━━━━━┩\n",
       "│<span style=\"color: #008080; text-decoration-color: #008080\">     test_BinaryAUROC      </span>│<span style=\"color: #800080; text-decoration-color: #800080\">    0.6839497089385986     </span>│\n",
       "│<span style=\"color: #008080; text-decoration-color: #008080\">    test_BinaryAccuracy    </span>│<span style=\"color: #800080; text-decoration-color: #800080\">    0.5353690385818481     </span>│\n",
       "│<span style=\"color: #008080; text-decoration-color: #008080\">    test_BinaryF1Score     </span>│<span style=\"color: #800080; text-decoration-color: #800080\">     0.671336829662323     </span>│\n",
       "│<span style=\"color: #008080; text-decoration-color: #008080\">   test_BinaryPrecision    </span>│<span style=\"color: #800080; text-decoration-color: #800080\">    0.5193548202514648     </span>│\n",
       "│<span style=\"color: #008080; text-decoration-color: #008080\">     test_BinaryRecall     </span>│<span style=\"color: #800080; text-decoration-color: #800080\">    0.9490686058998108     </span>│\n",
       "│<span style=\"color: #008080; text-decoration-color: #008080\">  test_BinarySpecificity   </span>│<span style=\"color: #800080; text-decoration-color: #800080\">    0.12166941910982132    </span>│\n",
       "│<span style=\"color: #008080; text-decoration-color: #008080\">         test_loss         </span>│<span style=\"color: #800080; text-decoration-color: #800080\">    1.1360194683074951     </span>│\n",
       "└───────────────────────────┴───────────────────────────┘\n",
       "</pre>\n"
      ],
      "text/plain": [
       "┏━━━━━━━━━━━━━━━━━━━━━━━━━━━┳━━━━━━━━━━━━━━━━━━━━━━━━━━━┓\n",
       "┃\u001b[1m \u001b[0m\u001b[1m       Test metric       \u001b[0m\u001b[1m \u001b[0m┃\u001b[1m \u001b[0m\u001b[1m      DataLoader 0       \u001b[0m\u001b[1m \u001b[0m┃\n",
       "┡━━━━━━━━━━━━━━━━━━━━━━━━━━━╇━━━━━━━━━━━━━━━━━━━━━━━━━━━┩\n",
       "│\u001b[36m \u001b[0m\u001b[36m    test_BinaryAUROC     \u001b[0m\u001b[36m \u001b[0m│\u001b[35m \u001b[0m\u001b[35m   0.6839497089385986    \u001b[0m\u001b[35m \u001b[0m│\n",
       "│\u001b[36m \u001b[0m\u001b[36m   test_BinaryAccuracy   \u001b[0m\u001b[36m \u001b[0m│\u001b[35m \u001b[0m\u001b[35m   0.5353690385818481    \u001b[0m\u001b[35m \u001b[0m│\n",
       "│\u001b[36m \u001b[0m\u001b[36m   test_BinaryF1Score    \u001b[0m\u001b[36m \u001b[0m│\u001b[35m \u001b[0m\u001b[35m    0.671336829662323    \u001b[0m\u001b[35m \u001b[0m│\n",
       "│\u001b[36m \u001b[0m\u001b[36m  test_BinaryPrecision   \u001b[0m\u001b[36m \u001b[0m│\u001b[35m \u001b[0m\u001b[35m   0.5193548202514648    \u001b[0m\u001b[35m \u001b[0m│\n",
       "│\u001b[36m \u001b[0m\u001b[36m    test_BinaryRecall    \u001b[0m\u001b[36m \u001b[0m│\u001b[35m \u001b[0m\u001b[35m   0.9490686058998108    \u001b[0m\u001b[35m \u001b[0m│\n",
       "│\u001b[36m \u001b[0m\u001b[36m test_BinarySpecificity  \u001b[0m\u001b[36m \u001b[0m│\u001b[35m \u001b[0m\u001b[35m   0.12166941910982132   \u001b[0m\u001b[35m \u001b[0m│\n",
       "│\u001b[36m \u001b[0m\u001b[36m        test_loss        \u001b[0m\u001b[36m \u001b[0m│\u001b[35m \u001b[0m\u001b[35m   1.1360194683074951    \u001b[0m\u001b[35m \u001b[0m│\n",
       "└───────────────────────────┴───────────────────────────┘\n"
      ]
     },
     "metadata": {},
     "output_type": "display_data"
    },
    {
     "name": "stderr",
     "output_type": "stream",
     "text": [
      "GPU available: True (cuda), used: True\n",
      "TPU available: False, using: 0 TPU cores\n",
      "IPU available: False, using: 0 IPUs\n",
      "HPU available: False, using: 0 HPUs\n",
      "LOCAL_RANK: 0 - CUDA_VISIBLE_DEVICES: [0]\n"
     ]
    },
    {
     "data": {
      "application/vnd.jupyter.widget-view+json": {
       "model_id": "669bc9a56c324bbf8a65c3bca6f5cde6",
       "version_major": 2,
       "version_minor": 0
      },
      "text/plain": [
       "Testing: |          | 0/? [00:00<?, ?it/s]"
      ]
     },
     "metadata": {},
     "output_type": "display_data"
    },
    {
     "data": {
      "text/html": [
       "<pre style=\"white-space:pre;overflow-x:auto;line-height:normal;font-family:Menlo,'DejaVu Sans Mono',consolas,'Courier New',monospace\">┏━━━━━━━━━━━━━━━━━━━━━━━━━━━┳━━━━━━━━━━━━━━━━━━━━━━━━━━━┓\n",
       "┃<span style=\"font-weight: bold\">        Test metric        </span>┃<span style=\"font-weight: bold\">       DataLoader 0        </span>┃\n",
       "┡━━━━━━━━━━━━━━━━━━━━━━━━━━━╇━━━━━━━━━━━━━━━━━━━━━━━━━━━┩\n",
       "│<span style=\"color: #008080; text-decoration-color: #008080\">     test_BinaryAUROC      </span>│<span style=\"color: #800080; text-decoration-color: #800080\">    0.6837985515594482     </span>│\n",
       "│<span style=\"color: #008080; text-decoration-color: #008080\">    test_BinaryAccuracy    </span>│<span style=\"color: #800080; text-decoration-color: #800080\">    0.5293563008308411     </span>│\n",
       "│<span style=\"color: #008080; text-decoration-color: #008080\">    test_BinaryF1Score     </span>│<span style=\"color: #800080; text-decoration-color: #800080\">    0.6696457862854004     </span>│\n",
       "│<span style=\"color: #008080; text-decoration-color: #008080\">   test_BinaryPrecision    </span>│<span style=\"color: #800080; text-decoration-color: #800080\">    0.5158740282058716     </span>│\n",
       "│<span style=\"color: #008080; text-decoration-color: #008080\">     test_BinaryRecall     </span>│<span style=\"color: #800080; text-decoration-color: #800080\">    0.9540202617645264     </span>│\n",
       "│<span style=\"color: #008080; text-decoration-color: #008080\">  test_BinarySpecificity   </span>│<span style=\"color: #800080; text-decoration-color: #800080\">    0.10469228774309158    </span>│\n",
       "│<span style=\"color: #008080; text-decoration-color: #008080\">         test_loss         </span>│<span style=\"color: #800080; text-decoration-color: #800080\">    1.1557470560073853     </span>│\n",
       "└───────────────────────────┴───────────────────────────┘\n",
       "</pre>\n"
      ],
      "text/plain": [
       "┏━━━━━━━━━━━━━━━━━━━━━━━━━━━┳━━━━━━━━━━━━━━━━━━━━━━━━━━━┓\n",
       "┃\u001b[1m \u001b[0m\u001b[1m       Test metric       \u001b[0m\u001b[1m \u001b[0m┃\u001b[1m \u001b[0m\u001b[1m      DataLoader 0       \u001b[0m\u001b[1m \u001b[0m┃\n",
       "┡━━━━━━━━━━━━━━━━━━━━━━━━━━━╇━━━━━━━━━━━━━━━━━━━━━━━━━━━┩\n",
       "│\u001b[36m \u001b[0m\u001b[36m    test_BinaryAUROC     \u001b[0m\u001b[36m \u001b[0m│\u001b[35m \u001b[0m\u001b[35m   0.6837985515594482    \u001b[0m\u001b[35m \u001b[0m│\n",
       "│\u001b[36m \u001b[0m\u001b[36m   test_BinaryAccuracy   \u001b[0m\u001b[36m \u001b[0m│\u001b[35m \u001b[0m\u001b[35m   0.5293563008308411    \u001b[0m\u001b[35m \u001b[0m│\n",
       "│\u001b[36m \u001b[0m\u001b[36m   test_BinaryF1Score    \u001b[0m\u001b[36m \u001b[0m│\u001b[35m \u001b[0m\u001b[35m   0.6696457862854004    \u001b[0m\u001b[35m \u001b[0m│\n",
       "│\u001b[36m \u001b[0m\u001b[36m  test_BinaryPrecision   \u001b[0m\u001b[36m \u001b[0m│\u001b[35m \u001b[0m\u001b[35m   0.5158740282058716    \u001b[0m\u001b[35m \u001b[0m│\n",
       "│\u001b[36m \u001b[0m\u001b[36m    test_BinaryRecall    \u001b[0m\u001b[36m \u001b[0m│\u001b[35m \u001b[0m\u001b[35m   0.9540202617645264    \u001b[0m\u001b[35m \u001b[0m│\n",
       "│\u001b[36m \u001b[0m\u001b[36m test_BinarySpecificity  \u001b[0m\u001b[36m \u001b[0m│\u001b[35m \u001b[0m\u001b[35m   0.10469228774309158   \u001b[0m\u001b[35m \u001b[0m│\n",
       "│\u001b[36m \u001b[0m\u001b[36m        test_loss        \u001b[0m\u001b[36m \u001b[0m│\u001b[35m \u001b[0m\u001b[35m   1.1557470560073853    \u001b[0m\u001b[35m \u001b[0m│\n",
       "└───────────────────────────┴───────────────────────────┘\n"
      ]
     },
     "metadata": {},
     "output_type": "display_data"
    },
    {
     "name": "stderr",
     "output_type": "stream",
     "text": [
      "GPU available: True (cuda), used: True\n",
      "TPU available: False, using: 0 TPU cores\n",
      "IPU available: False, using: 0 IPUs\n",
      "HPU available: False, using: 0 HPUs\n",
      "LOCAL_RANK: 0 - CUDA_VISIBLE_DEVICES: [0]\n"
     ]
    },
    {
     "data": {
      "application/vnd.jupyter.widget-view+json": {
       "model_id": "ae2f90f0778246798be391cdb46297b5",
       "version_major": 2,
       "version_minor": 0
      },
      "text/plain": [
       "Testing: |          | 0/? [00:00<?, ?it/s]"
      ]
     },
     "metadata": {},
     "output_type": "display_data"
    }
   ],
   "source": [
    "modelname, dataset = \"efficientnet_v2_m\", \"covidx_data\"\n",
    "print(f\"\\n---\\nModel: {modelname} - Dataset: {dataset}\")\n",
    "print(f\"Device: {device}\")\n",
    "\n",
    "pipeline(\n",
    "    modelname=modelname,\n",
    "    dataset=dataset,\n",
    "    n_robustifications=3,\n",
    "    i=3,\n",
    "    n=10,\n",
    "    t=20,\n",
    "    p=2,\n",
    "    lambda_norm=0.001,\n",
    "    r=0.1,\n",
    "    eps=1e-6,\n",
    "    seed=42,\n",
    "    num_workers=NUM_WORKERS,\n",
    "    device=device,\n",
    "    verbose=False,\n",
    ")"
   ]
  }
 ],
 "metadata": {
  "kernelspec": {
   "display_name": "Python 3 (ipykernel)",
   "language": "python",
   "name": "python3"
  },
  "language_info": {
   "codemirror_mode": {
    "name": "ipython",
    "version": 3
   },
   "file_extension": ".py",
   "mimetype": "text/x-python",
   "name": "python",
   "nbconvert_exporter": "python",
   "pygments_lexer": "ipython3",
   "version": "3.11.8"
  }
 },
 "nbformat": 4,
 "nbformat_minor": 4
}
