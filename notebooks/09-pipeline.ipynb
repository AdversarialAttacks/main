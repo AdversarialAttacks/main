{
 "cells": [
  {
   "cell_type": "markdown",
   "id": "4f0d7003",
   "metadata": {
    "papermill": {
     "duration": 0.001586,
     "end_time": "2024-05-21T15:27:18.541452",
     "exception": false,
     "start_time": "2024-05-21T15:27:18.539866",
     "status": "completed"
    },
    "tags": []
   },
   "source": [
    "In diesem Notebook wird die Pipeline aufgebaut."
   ]
  },
  {
   "cell_type": "code",
   "execution_count": 1,
   "id": "00fa5035",
   "metadata": {
    "papermill": {
     "duration": 0.012259,
     "end_time": "2024-05-21T15:27:18.562214",
     "exception": false,
     "start_time": "2024-05-21T15:27:18.549955",
     "status": "completed"
    },
    "tags": []
   },
   "outputs": [],
   "source": [
    "%load_ext autoreload\n",
    "%autoreload 2\n",
    "\n",
    "import os\n",
    "if os.getcwd() == '/home/jovyan/work': # jhub\n",
    "    os.chdir(\"24FS_I4DS27/main/\") \n",
    "    os.system(\"make reqs\")\n",
    "else: # local\n",
    "    os.chdir(\"../\")"
   ]
  },
  {
   "cell_type": "code",
   "execution_count": 2,
   "id": "968a7c7e",
   "metadata": {
    "papermill": {
     "duration": 2.11143,
     "end_time": "2024-05-21T15:27:20.674531",
     "exception": false,
     "start_time": "2024-05-21T15:27:18.563101",
     "status": "completed"
    },
    "tags": []
   },
   "outputs": [],
   "source": [
    "import torch\n",
    "import torchvision\n",
    "import matplotlib.pyplot as plt\n",
    "\n",
    "from src.data.mri import MRIDataModule\n",
    "from src.data.covidx import COVIDXDataModule\n",
    "from src.utils.download import download_models\n",
    "from src.utils.transform_perturbation import AddImagePerturbation\n",
    "from src.utils.uap_helper import generate_adversarial_images_from_model_dataset, get_model\n",
    "from src.models.imageclassifier import ImageClassifier\n",
    "\n",
    "from lightning.pytorch import Trainer\n",
    "from lightning.pytorch import loggers as pl_loggers\n",
    "from lightning.pytorch.callbacks import ModelCheckpoint, EarlyStopping\n",
    "\n",
    "plt.rcParams[\"figure.dpi\"] = 200\n",
    "plt.rcParams[\"figure.figsize\"] = (16, 8)\n",
    "\n",
    "torch.set_float32_matmul_precision('high')"
   ]
  },
  {
   "cell_type": "code",
   "execution_count": 3,
   "id": "66fa2354",
   "metadata": {
    "papermill": {
     "duration": 0.032673,
     "end_time": "2024-05-21T15:27:20.708306",
     "exception": false,
     "start_time": "2024-05-21T15:27:20.675633",
     "status": "completed"
    },
    "tags": []
   },
   "outputs": [],
   "source": [
    "ENTITY = \"24FS_I4DS27\"\n",
    "PROJECT = \"baselines\"\n",
    "NUM_WORKERS = 8\n",
    "\n",
    "\n",
    "def get_transform(perturbations: torch.Tensor = None, p: float = None, idx: int = None):\n",
    "    if None in (perturbations, p, idx):\n",
    "        return torchvision.transforms.Compose(\n",
    "            [\n",
    "                torchvision.transforms.Resize((224, 224), antialias=True),\n",
    "            ]\n",
    "        )\n",
    "    return torchvision.transforms.Compose(\n",
    "        [\n",
    "            torchvision.transforms.Resize((224, 224), antialias=True),\n",
    "            AddImagePerturbation(perturbations, p, idx),\n",
    "        ]\n",
    "    )\n",
    "\n",
    "def get_datamodule(dataset, transform=get_transform(), num_workers=0, batch_size=1, seed=42):\n",
    "    if dataset == \"covidx_data\":\n",
    "        return COVIDXDataModule(\n",
    "            path=\"data/raw/COVIDX-CXR4\",\n",
    "            transform=transform,\n",
    "            num_workers=num_workers,\n",
    "            batch_size=batch_size,\n",
    "            train_sample_size=0.05,\n",
    "            train_shuffle=True,\n",
    "            seed=seed,\n",
    "        ).setup()\n",
    "\n",
    "    elif dataset == \"mri_data\":\n",
    "        return MRIDataModule(\n",
    "            path=\"data/raw/Brain-Tumor-MRI\",\n",
    "            path_processed=\"data/processed/Brain-Tumor-MRI\",\n",
    "            transform=transform,\n",
    "            num_workers=num_workers,\n",
    "            batch_size=batch_size,\n",
    "            train_shuffle=True,\n",
    "            seed=seed,\n",
    "        ).setup()\n",
    "\n",
    "    else:\n",
    "        raise ValueError(\"Invalid dataset\")\n",
    "\n",
    "device = \"cuda\" if torch.cuda.is_available() else \"mps\" if torch.backends.mps.is_available() else \"cpu\""
   ]
  },
  {
   "cell_type": "code",
   "execution_count": 4,
   "id": "b8e4ca06",
   "metadata": {
    "papermill": {
     "duration": 0.020863,
     "end_time": "2024-05-21T15:27:20.730130",
     "exception": false,
     "start_time": "2024-05-21T15:27:20.709267",
     "status": "completed"
    },
    "tags": []
   },
   "outputs": [],
   "source": [
    "# Download models if not present\n",
    "models = download_models(ENTITY, PROJECT)"
   ]
  },
  {
   "cell_type": "code",
   "execution_count": 5,
   "id": "5e794ace",
   "metadata": {
    "papermill": {
     "duration": 0.028095,
     "end_time": "2024-05-21T15:27:20.759153",
     "exception": false,
     "start_time": "2024-05-21T15:27:20.731058",
     "status": "completed"
    },
    "tags": []
   },
   "outputs": [],
   "source": [
    "def pipeline(\n",
    "    modelname: str,\n",
    "    dataset: str,\n",
    "    n_robustifications: int,\n",
    "    i: int,\n",
    "    n: int,\n",
    "    t: int,\n",
    "    p: int,\n",
    "    lambda_norm: int,\n",
    "    r: float,\n",
    "    eps: float,\n",
    "    lr_uap: float,\n",
    "    seed: int,\n",
    "    num_workers: int,\n",
    "    device: str,\n",
    "    verbose: bool = False,\n",
    "):\n",
    "    \"\"\"\n",
    "    Runs the pipeline for generating Universal Adversarial Perturbations (UAP) using the specified model and dataset.\n",
    "\n",
    "    Parameters:\n",
    "    modelname (str): The name of the model to be used for generating perturbations.\n",
    "    dataset (str): The dataset to be used for training and evaluating the UAP.\n",
    "    n_robustifications (int): The number of robustifications to apply.\n",
    "    i (int): The number of UAPs to generate.\n",
    "    n (int): The number of images to be used for generating UAPs.\n",
    "    t (int): The number of retries to fool an image on the algorithm.\n",
    "    p (int): The norm to be used for measuring perturbations (e.g., L2 norm, L∞ norm).\n",
    "    lambda_norm (int): The regularization parameter for the norm.\n",
    "    r (float): The desired fooling rate, which when achieved, saves the UAP.\n",
    "    eps (float): A small positive constant for numerical stability in the loss function.\n",
    "    lr_uap (float): The learning rate for the UAP optimization problem.\n",
    "    seed (int): The random seed for reproducibility.\n",
    "    num_workers (int): Number of worker threads for data loading.\n",
    "    device (str): The device to be used for computation (e.g., 'cpu' or 'cuda').\n",
    "    verbose (bool): Whether to print additional information during the pipeline.\n",
    "\n",
    "    Returns:\n",
    "    None\n",
    "    \"\"\"\n",
    "    model, hparams = get_model(modelname=modelname, dataset=dataset, output_size=1, return_hparams=True)\n",
    "\n",
    "    for current_robustification in range(n_robustifications):\n",
    "        modelfolder = f\"{modelname}-{dataset}-n_{n}-robustification_{current_robustification}\"\n",
    "\n",
    "        # check if the model has already been robustified and evaluated, if so, skip current iteration\n",
    "        metrics_path_i = f\"robustified_models/{modelfolder}/06_eval_robustified_test_uap_{i-1}/metrics.csv\"\n",
    "        metrics_path_next = f\"robustified_models/{modelfolder}/06_eval_robustified_test_uap_{i}/metrics.csv\"\n",
    "        if os.path.exists(metrics_path_i) and not os.path.exists(metrics_path_next):\n",
    "            print(f\"Skipping robustification {current_robustification}, since already exists\") \n",
    "\n",
    "            # load best model checkpoint\n",
    "            model = ImageClassifier.load_from_checkpoint(\n",
    "                checkpoint_path=f\"robustified_models/{modelname}-{dataset}-n_{n}-robustification_{current_robustification}/04_robustify_model/model.ckpt\",\n",
    "                modelname=modelname,\n",
    "                output_size=1,\n",
    "                p_dropout_classifier=hparams[\"p_dropout_classifier\"],\n",
    "                lr=hparams[\"lr\"],\n",
    "                weight_decay=hparams[\"weight_decay\"],\n",
    "            )\n",
    "            model.freeze()\n",
    "            model.eval()\n",
    "            \n",
    "            continue\n",
    "\n",
    "        # generate UAP\n",
    "        loggerUAP = pl_loggers.CSVLogger(\n",
    "            \"robustified_models\",\n",
    "            name=modelfolder,\n",
    "            version=\"01_UAPs_pre_robustification\",\n",
    "            flush_logs_every_n_steps=1,\n",
    "        )\n",
    "        perturbations = generate_adversarial_images_from_model_dataset(\n",
    "            model,\n",
    "            modelname,\n",
    "            dataset,\n",
    "            logger=loggerUAP,\n",
    "            transform=get_transform(),\n",
    "            i=i,\n",
    "            n=n,\n",
    "            r=r,\n",
    "            p=p,\n",
    "            lambda_norm=lambda_norm,\n",
    "            t=t,\n",
    "            eps=eps,\n",
    "            lr_uap=lr_uap,\n",
    "            seed=seed,\n",
    "            num_workers=num_workers,\n",
    "            device=device,\n",
    "            verbose=verbose,\n",
    "        ).cpu()\n",
    "        perturbations = perturbations.detach()\n",
    "        loggerUAP.save()\n",
    "\n",
    "        # evaluate model on testdata\n",
    "        loggerEvalUnrobustifiedTest = pl_loggers.CSVLogger(\n",
    "            \"robustified_models\",\n",
    "            name=modelfolder,\n",
    "            version=\"02_eval_unrobustified_test\",\n",
    "            flush_logs_every_n_steps=1,\n",
    "        )\n",
    "        datamodule = get_datamodule(\n",
    "            dataset=dataset,\n",
    "            transform=get_transform(),\n",
    "            num_workers=num_workers,\n",
    "            batch_size=32,\n",
    "            seed=seed,\n",
    "        )\n",
    "        trainer = Trainer(\n",
    "            logger=loggerEvalUnrobustifiedTest,\n",
    "        )\n",
    "        trainer.test(model, datamodule.test_dataloader())\n",
    "\n",
    "        # evaluate model on testdata + uaps\n",
    "        for perturbation_idx in range(i):\n",
    "            loggerEvalUnrobustifiedTestUAP = pl_loggers.CSVLogger(\n",
    "                \"robustified_models\",\n",
    "                name=modelfolder,\n",
    "                version=f\"03_eval_unrobustified_test_uap_{perturbation_idx}\",\n",
    "                flush_logs_every_n_steps=1,\n",
    "            )\n",
    "            datamodule = get_datamodule(\n",
    "                dataset=dataset,\n",
    "                transform=get_transform(perturbations, p=1, idx=perturbation_idx),\n",
    "                num_workers=num_workers,\n",
    "                batch_size=32,\n",
    "                seed=seed,\n",
    "            )\n",
    "            trainer = Trainer(\n",
    "                logger=loggerEvalUnrobustifiedTestUAP,\n",
    "            )\n",
    "            trainer.test(model, datamodule.test_dataloader())\n",
    "\n",
    "        # unfreeze model\n",
    "        model.unfreeze()\n",
    "        model.train()\n",
    "\n",
    "        # robustify model\n",
    "        loggerRobustify = pl_loggers.CSVLogger(\n",
    "            \"robustified_models\",\n",
    "            name=modelfolder,\n",
    "            version=\"04_robustify_model\",\n",
    "            flush_logs_every_n_steps=1,\n",
    "        )\n",
    "        datamodule = get_datamodule(\n",
    "            dataset=dataset,\n",
    "            transform=get_transform(perturbations, p=0.5),\n",
    "            num_workers=num_workers,\n",
    "            batch_size=32,\n",
    "            seed=seed,\n",
    "        )\n",
    "        trainer = Trainer(\n",
    "            max_epochs=50,\n",
    "            log_every_n_steps=1,\n",
    "            gradient_clip_val=0.5,\n",
    "            accelerator=\"auto\",\n",
    "            logger=loggerRobustify,\n",
    "            fast_dev_run=False,  # set to True to test run\n",
    "            enable_progress_bar=True,\n",
    "            enable_model_summary=True,\n",
    "            callbacks=[\n",
    "                EarlyStopping(monitor=\"val_loss\", mode=\"min\", patience=20),\n",
    "                ModelCheckpoint(\n",
    "                    monitor=\"val_loss\",\n",
    "                    mode=\"min\",\n",
    "                    save_top_k=1, \n",
    "                    save_last=False,  \n",
    "                    dirpath=f\"robustified_models/{modelname}-{dataset}-n_{n}-robustification_{current_robustification}/04_robustify_model\",\n",
    "                    filename=\"model\",\n",
    "                )\n",
    "            ],\n",
    "        )\n",
    "\n",
    "        trainer.fit(model, datamodule.train_dataloader(), datamodule.val_dataloader())\n",
    "\n",
    "        # load best model checkpoint\n",
    "        model = ImageClassifier.load_from_checkpoint(\n",
    "            checkpoint_path=f\"robustified_models/{modelname}-{dataset}-n_{n}-robustification_{current_robustification}/04_robustify_model/model.ckpt\",\n",
    "            modelname=modelname,\n",
    "            output_size=1,\n",
    "            p_dropout_classifier=hparams[\"p_dropout_classifier\"],\n",
    "            lr=hparams[\"lr\"],\n",
    "            weight_decay=hparams[\"weight_decay\"],\n",
    "        )\n",
    "        model.freeze()\n",
    "        model.eval()\n",
    "\n",
    "        # evaluate robustified model on testdata\n",
    "        loggerEvalRobustifiedTest = pl_loggers.CSVLogger(\n",
    "            \"robustified_models\",\n",
    "            name=modelfolder,\n",
    "            version=\"05_eval_robustified_test\",\n",
    "            flush_logs_every_n_steps=1,\n",
    "        )\n",
    "        datamodule = get_datamodule(\n",
    "            dataset=dataset,\n",
    "            transform=get_transform(perturbations, p=0.5),\n",
    "            num_workers=num_workers,\n",
    "            batch_size=32,\n",
    "            seed=seed,\n",
    "        )\n",
    "        trainer = Trainer(\n",
    "            logger=loggerEvalRobustifiedTest,\n",
    "        )\n",
    "        trainer.test(model, datamodule.test_dataloader())\n",
    "\n",
    "        # evaluate robustified model on testdata + uaps\n",
    "        for perturbation_idx in range(i):\n",
    "            loggerEvalRobustifiedTestUAP = pl_loggers.CSVLogger(\n",
    "                \"robustified_models\",\n",
    "                name=modelfolder,\n",
    "                version=f\"06_eval_robustified_test_uap_{perturbation_idx}\",\n",
    "                flush_logs_every_n_steps=1,\n",
    "            )\n",
    "            datamodule = get_datamodule(\n",
    "                dataset=dataset,\n",
    "                transform=get_transform(perturbations, p=0.5, idx=perturbation_idx),\n",
    "                num_workers=num_workers,\n",
    "                batch_size=32,\n",
    "                seed=seed,\n",
    "            )\n",
    "            trainer = Trainer(\n",
    "                logger=loggerEvalRobustifiedTestUAP,\n",
    "            )\n",
    "            trainer.test(model, datamodule.test_dataloader())"
   ]
  },
  {
   "cell_type": "code",
   "execution_count": 6,
   "id": "ff844d52",
   "metadata": {
    "papermill": {
     "duration": 575.952751,
     "end_time": "2024-05-21T15:36:56.713752",
     "exception": false,
     "start_time": "2024-05-21T15:27:20.761001",
     "status": "completed"
    },
    "tags": []
   },
   "outputs": [
    {
     "name": "stdout",
     "output_type": "stream",
     "text": [
      "\n",
      "---\n",
      "Model: resnet50 - Dataset: covidx_data\n",
      "Device: cuda\n"
     ]
    },
    {
     "name": "stderr",
     "output_type": "stream",
     "text": [
      "Downloading: \"https://download.pytorch.org/models/resnet50-11ad3fa6.pth\" to /home/jovyan/.cache/torch/hub/checkpoints/resnet50-11ad3fa6.pth\n",
      "100%|██████████| 97.8M/97.8M [00:02<00:00, 50.7MB/s]\n"
     ]
    },
    {
     "name": "stdout",
     "output_type": "stream",
     "text": [
      "Skipping robustification 0, since already exists\n",
      "Skipping robustification 1, since already exists\n",
      "Skipping robustification 2, since already exists\n"
     ]
    },
    {
     "name": "stderr",
     "output_type": "stream",
     "text": [
      "/opt/conda/lib/python3.11/site-packages/lightning/fabric/loggers/csv_logs.py:268: Experiment logs directory robustified_models/resnet50-covidx_data-n_100-robustification_3/01_UAPs_pre_robustification exists and is not empty. Previous log files in this directory will be deleted when the new ones are saved!\n"
     ]
    },
    {
     "data": {
      "application/vnd.jupyter.widget-view+json": {
       "model_id": "70847be6d6a444b7804814d53526613f",
       "version_major": 2,
       "version_minor": 0
      },
      "text/plain": [
       "Universal Pertubation:   0%|          | 0/5 [00:00<?, ?it/s]"
      ]
     },
     "metadata": {},
     "output_type": "display_data"
    },
    {
     "name": "stderr",
     "output_type": "stream",
     "text": [
      "/opt/conda/lib/python3.11/site-packages/torch/autograd/graph.py:744: UserWarning: Plan failed with an OutOfMemoryError: CUDA out of memory. Tried to allocate 128.00 MiB. GPU  (Triggered internally at ../aten/src/ATen/native/cudnn/Conv_v8.cpp:924.)\n",
      "  return Variable._execution_engine.run_backward(  # Calls into the C++ engine to run the backward pass\n",
      "/opt/conda/lib/python3.11/site-packages/torch/nn/modules/conv.py:456: UserWarning: Plan failed with an OutOfMemoryError: CUDA out of memory. Tried to allocate 128.00 MiB. GPU  (Triggered internally at ../aten/src/ATen/native/cudnn/Conv_v8.cpp:924.)\n",
      "  return F.conv2d(input, weight, bias, self.stride,\n"
     ]
    },
    {
     "name": "stdout",
     "output_type": "stream",
     "text": [
      "Attempt 1 failed: CUDA out of memory. Tried to allocate 2.00 MiB. GPU \n",
      "Skipping robustification 0, since already exists\n",
      "Skipping robustification 1, since already exists\n",
      "Skipping robustification 2, since already exists\n"
     ]
    },
    {
     "name": "stderr",
     "output_type": "stream",
     "text": [
      "/opt/conda/lib/python3.11/site-packages/lightning/fabric/loggers/csv_logs.py:268: Experiment logs directory robustified_models/resnet50-covidx_data-n_100-robustification_3/01_UAPs_pre_robustification exists and is not empty. Previous log files in this directory will be deleted when the new ones are saved!\n"
     ]
    },
    {
     "data": {
      "application/vnd.jupyter.widget-view+json": {
       "model_id": "834683a4e9d64ea798da70f01f100966",
       "version_major": 2,
       "version_minor": 0
      },
      "text/plain": [
       "Universal Pertubation:   0%|          | 0/5 [00:00<?, ?it/s]"
      ]
     },
     "metadata": {},
     "output_type": "display_data"
    },
    {
     "name": "stdout",
     "output_type": "stream",
     "text": [
      "Attempt 2 failed: CUDA out of memory. Tried to allocate 2.00 MiB. GPU \n",
      "Skipping robustification 0, since already exists\n",
      "Skipping robustification 1, since already exists\n",
      "Skipping robustification 2, since already exists\n"
     ]
    },
    {
     "name": "stderr",
     "output_type": "stream",
     "text": [
      "/opt/conda/lib/python3.11/site-packages/lightning/fabric/loggers/csv_logs.py:268: Experiment logs directory robustified_models/resnet50-covidx_data-n_100-robustification_3/01_UAPs_pre_robustification exists and is not empty. Previous log files in this directory will be deleted when the new ones are saved!\n"
     ]
    },
    {
     "data": {
      "application/vnd.jupyter.widget-view+json": {
       "model_id": "a0807a15730a4a0ab7dd86fd5efecaa3",
       "version_major": 2,
       "version_minor": 0
      },
      "text/plain": [
       "Universal Pertubation:   0%|          | 0/5 [00:00<?, ?it/s]"
      ]
     },
     "metadata": {},
     "output_type": "display_data"
    },
    {
     "name": "stdout",
     "output_type": "stream",
     "text": [
      "Attempt 3 failed: CUDA out of memory. Tried to allocate 2.00 MiB. GPU \n",
      "Skipping robustification 0, since already exists\n",
      "Skipping robustification 1, since already exists\n",
      "Skipping robustification 2, since already exists\n"
     ]
    },
    {
     "name": "stderr",
     "output_type": "stream",
     "text": [
      "/opt/conda/lib/python3.11/site-packages/lightning/fabric/loggers/csv_logs.py:268: Experiment logs directory robustified_models/resnet50-covidx_data-n_100-robustification_3/01_UAPs_pre_robustification exists and is not empty. Previous log files in this directory will be deleted when the new ones are saved!\n"
     ]
    },
    {
     "data": {
      "application/vnd.jupyter.widget-view+json": {
       "model_id": "15dc929170ea4e3493c7f0b2816d6014",
       "version_major": 2,
       "version_minor": 0
      },
      "text/plain": [
       "Universal Pertubation:   0%|          | 0/5 [00:00<?, ?it/s]"
      ]
     },
     "metadata": {},
     "output_type": "display_data"
    },
    {
     "name": "stdout",
     "output_type": "stream",
     "text": [
      "Attempt 4 failed: CUDA out of memory. Tried to allocate 2.00 MiB. GPU \n",
      "Skipping robustification 0, since already exists\n",
      "Skipping robustification 1, since already exists\n",
      "Skipping robustification 2, since already exists\n"
     ]
    },
    {
     "name": "stderr",
     "output_type": "stream",
     "text": [
      "/opt/conda/lib/python3.11/site-packages/lightning/fabric/loggers/csv_logs.py:268: Experiment logs directory robustified_models/resnet50-covidx_data-n_100-robustification_3/01_UAPs_pre_robustification exists and is not empty. Previous log files in this directory will be deleted when the new ones are saved!\n"
     ]
    },
    {
     "data": {
      "application/vnd.jupyter.widget-view+json": {
       "model_id": "acf2b3652cb84ee68d92f789faf47aee",
       "version_major": 2,
       "version_minor": 0
      },
      "text/plain": [
       "Universal Pertubation:   0%|          | 0/5 [00:00<?, ?it/s]"
      ]
     },
     "metadata": {},
     "output_type": "display_data"
    },
    {
     "name": "stdout",
     "output_type": "stream",
     "text": [
      "Attempt 5 failed: CUDA out of memory. Tried to allocate 2.00 MiB. GPU \n",
      "All retries failed\n"
     ]
    }
   ],
   "source": [
    "modelname, dataset = \"resnet50\", \"covidx_data\"\n",
    "print(f\"\\n---\\nModel: {modelname} - Dataset: {dataset}\")\n",
    "print(f\"Device: {device}\")\n",
    "\n",
    "max_retries = 5\n",
    "for attempt in range(max_retries):\n",
    "    try:\n",
    "        pipeline(\n",
    "            modelname=modelname,\n",
    "            dataset=dataset,\n",
    "            n_robustifications=5,\n",
    "            i=5,\n",
    "            n=100,\n",
    "            t=20,\n",
    "            p=2,\n",
    "            lambda_norm=0.001,\n",
    "            r=0.5,\n",
    "            eps=1e-6,\n",
    "            lr_uap=0.1,\n",
    "            seed=42,\n",
    "            num_workers=NUM_WORKERS,\n",
    "            device=device,\n",
    "            verbose=False,\n",
    "        )\n",
    "    # CUDA out of memory error\n",
    "    except RuntimeError as e:\n",
    "        print(f\"Attempt {attempt + 1} failed: {e}\")\n",
    "        if attempt >= max_retries - 1:\n",
    "            print(\"All retries failed\")"
   ]
  }
 ],
 "metadata": {
  "kernelspec": {
   "display_name": "Python 3 (ipykernel)",
   "language": "python",
   "name": "python3"
  },
  "language_info": {
   "codemirror_mode": {
    "name": "ipython",
    "version": 3
   },
   "file_extension": ".py",
   "mimetype": "text/x-python",
   "name": "python",
   "nbconvert_exporter": "python",
   "pygments_lexer": "ipython3",
   "version": "3.11.8"
  },
  "papermill": {
   "default_parameters": {},
   "duration": 580.131392,
   "end_time": "2024-05-21T15:36:58.032867",
   "environment_variables": {},
   "exception": null,
   "input_path": "09-pipeline.ipynb",
   "output_path": "09-pipeline.ipynb",
   "parameters": {},
   "start_time": "2024-05-21T15:27:17.901475",
   "version": "2.6.0"
  }
 },
 "nbformat": 4,
 "nbformat_minor": 5
}
