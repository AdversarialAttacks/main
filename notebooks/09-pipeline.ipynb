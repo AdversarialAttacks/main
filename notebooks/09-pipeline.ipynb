{
 "cells": [
  {
   "cell_type": "markdown",
   "metadata": {},
   "source": [
    "In diesem Notebook wird die Pipeline aufgebaut."
   ]
  },
  {
   "cell_type": "code",
   "execution_count": 1,
   "metadata": {},
   "outputs": [],
   "source": [
    "%load_ext autoreload\n",
    "%autoreload 2\n",
    "\n",
    "import os\n",
    "if os.getcwd() == '/home/jovyan/work': # jhub\n",
    "    os.chdir(\"24FS_I4DS27/main/\") \n",
    "    os.system(\"make reqs\")\n",
    "else: # local\n",
    "    os.chdir(\"../\")"
   ]
  },
  {
   "cell_type": "code",
   "execution_count": 2,
   "metadata": {},
   "outputs": [],
   "source": [
    "import numpy as np\n",
    "import torch\n",
    "import torchvision\n",
    "import seaborn as sns\n",
    "import matplotlib.pyplot as plt\n",
    "\n",
    "plt.rcParams[\"figure.dpi\"] = 200\n",
    "plt.rcParams[\"figure.figsize\"] = (16, 8)"
   ]
  },
  {
   "cell_type": "code",
   "execution_count": 10,
   "metadata": {},
   "outputs": [],
   "source": [
    "from lightning.pytorch import loggers as pl_loggers\n",
    "\n",
    "# create logger\n",
    "logger = pl_loggers.CSVLogger(\"logs\", name=\"test\", version=0)\n",
    "\n",
    "# log hyperparameters\n",
    "logger.log_hyperparams({\"lr\": 0.01, \"bs\": 32})\n",
    "\n",
    "# log metrics\n",
    "for i in range(50):\n",
    "    logger.log_metrics({\"loss\": 1.0 / (i + 1), \"acc\": 0.5 * (i + 1)}, step=i)\n",
    "\n",
    "# print log directory\n",
    "logger.save()"
   ]
  }
 ],
 "metadata": {
  "kernelspec": {
   "display_name": "Python 3",
   "language": "python",
   "name": "python3"
  },
  "language_info": {
   "codemirror_mode": {
    "name": "ipython",
    "version": 3
   },
   "file_extension": ".py",
   "mimetype": "text/x-python",
   "name": "python",
   "nbconvert_exporter": "python",
   "pygments_lexer": "ipython3",
   "version": "3.10.13"
  }
 },
 "nbformat": 4,
 "nbformat_minor": 2
}
