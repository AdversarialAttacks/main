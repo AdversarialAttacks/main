{
 "cells": [
  {
   "cell_type": "markdown",
   "metadata": {},
   "source": [
    "# The algorithm works like this:\n",
    "\n",
    "![](https://mermaid.ink/svg/pako:eNqFVulu2zAMfhXCv1K03QPkx4b0WFFg64K2G7DZRaHYTCzElgxZTtfr3UcdPuQ4nYDWEimSH0_lNUplhtE82ihW5XB_kQigVTcrR_i5WMKi2EjFdV46nll3mik9m9nP0VFPvxZcc1bwF_wV93soeK1BrqFCpRu1YppLUcPuoRfsDF6hQMU0AodG8B2qmhWhXC9kLWp7PfZf0LmSzSaHusKUrzlmIJpyhYr0EYAMa66INq0aeMk2GAILvRo6FUhqFLVUsHvkwGpgXhU8UdjgBZXEeqSzc_iykmk-csqsr1JdsjSP6QtIGxCTWDnZzsltxbjgYgMZ06xG_bCvsLM4DpXTtC9g1hXqa8OOaWMNCfyrvXPG9P_NjsriHstqGEWnymcrDV3cPWq6_UEQ23WeY7qN7X_gayippAvgNaylLCjbq2cLPdQNx17_AZ1duH5Umpf8xYktlVwVWE6LmLWk8uKpjpPoO9uih1I5olFgnaF22nBB1cdE1sIinC4WM_c5tsXUgjxKoofDRs8Usm18i1qZgtdSUq1TRX75QOSbrOv4nBVpU7haoC4lksNnToMGkqq0SLkwTYNwdn75ERiWbislK7YxfRmcQIrekpawoaJK6UDtSSfDychobeK0ko3ImHr-wJDN94UXOPP3-yqYVAdP1J7K9BNmB1SjyKYZiyyL6Y_Qp-PB4SuVnDgwWSiXB8zdYoVM97BZUYBvrLbHc7ZDWCESwbVu1vbuhM5J-F2iByk3zWFa186C0XB2g4xSnraw2skZSPFDsdwDcUcuxIuqwr7ge0MUNvtCjOeujcnNcjj8-zi1gFhJqbWvy4H3giZ_Tkm38dtHGyDtd9RLjRKzmfvCrn3k7HW3tY8fnJ5-Ho43xxoQ3AWXNs_04zeUHAtatn8DHM8fLKMdy47TnsZgzKzdA2SI9qKNpGO7oBLx7TfWb6bQx_Qb-daONsfyB6vJzBJHNTtLCtre8cJJ0CEYN_DA8phlhaYgTl80mO1k9PbNtucE3njep06_60rHND1vxIY0t-9D1rXVmO2Mhfnqe7B3yDTIJNeIB3VgbvbhC9tjEJOQ0SUxKMVDF30ITOknIjqJSlQl4xn9THw1gklEs7XEJJrTluK9TaJEvNM91mh59yzSaK5VgydRU9HvArzgjF7SMpqvWVETtWLij5Tt-f0f7X5Wpw)"
   ]
  },
  {
   "cell_type": "code",
   "execution_count": 1,
   "metadata": {},
   "outputs": [],
   "source": [
    "# %load_ext autoreload\n",
    "# %autoreload 2\n",
    "\n",
    "import os\n",
    "\n",
    "os.chdir(\"..\")\n",
    "import torch\n",
    "import torchvision\n",
    "import matplotlib.pyplot as plt \n",
    "from src.utils.download import download_models\n",
    "from src.utils.uap_helper import generate_adversarial_images_from_model_dataset, get_datamodule, get_model\n",
    "from lightning.pytorch import loggers as pl_loggers"
   ]
  },
  {
   "cell_type": "code",
   "execution_count": 2,
   "metadata": {},
   "outputs": [],
   "source": [
    "ENTITY = \"24FS_I4DS27\"\n",
    "PROJECT = \"baselines\"\n",
    "NUM_WORKERS = 8\n",
    "\n",
    "transform = torchvision.transforms.Compose(\n",
    "    [\n",
    "        torchvision.transforms.Resize((224, 224), antialias=True),\n",
    "    ]\n",
    ")\n",
    "device = \"cuda\" if torch.cuda.is_available() else \"mps\" if torch.backends.mps.is_available() else \"cpu\""
   ]
  },
  {
   "cell_type": "code",
   "execution_count": 3,
   "metadata": {},
   "outputs": [],
   "source": [
    "# Download models if not present\n",
    "models = download_models(ENTITY, PROJECT)"
   ]
  },
  {
   "cell_type": "code",
   "execution_count": null,
   "metadata": {},
   "outputs": [
    {
     "name": "stdout",
     "output_type": "stream",
     "text": [
      "\n",
      "---\n",
      "Model: efficientnet_v2_m - Dataset: covidx_data\n"
     ]
    },
    {
     "name": "stderr",
     "output_type": "stream",
     "text": [
      "/opt/conda/lib/python3.11/site-packages/lightning/fabric/loggers/csv_logs.py:268: Experiment logs directory test/efficientnet_v2_m-covidx_data-n_200-robustification_0/UAPs_pre_robustification exists and is not empty. Previous log files in this directory will be deleted when the new ones are saved!\n"
     ]
    },
    {
     "data": {
      "application/vnd.jupyter.widget-view+json": {
       "model_id": "c2b609c5bc3d453d8251c414ea4407c1",
       "version_major": 2,
       "version_minor": 0
      },
      "text/plain": [
       "Universal Pertubation:   0%|          | 0/5 [00:00<?, ?it/s]"
      ]
     },
     "metadata": {},
     "output_type": "display_data"
    },
    {
     "name": "stderr",
     "output_type": "stream",
     "text": [
      "/opt/conda/lib/python3.11/site-packages/torch/nn/modules/conv.py:456: UserWarning: Plan failed with a cudnnException: CUDNN_BACKEND_EXECUTION_PLAN_DESCRIPTOR: cudnnFinalize Descriptor Failed cudnn_status: CUDNN_STATUS_NOT_SUPPORTED (Triggered internally at ../aten/src/ATen/native/cudnn/Conv_v8.cpp:919.)\n",
      "  return F.conv2d(input, weight, bias, self.stride,\n"
     ]
    }
   ],
   "source": [
    "modelname, dataset = \"efficientnet_v2_m\", \"covidx_data\"\n",
    "print(f\"\\n---\\nModel: {modelname} - Dataset: {dataset}\")\n",
    "\n",
    "current_robustification = 0\n",
    "n = 200\n",
    "\n",
    "logger = pl_loggers.CSVLogger(\"test\", name=f\"{modelname}-{dataset}-n_{n}-robustification_{current_robustification}\", version=\"UAPs_pre_robustification\", flush_logs_every_n_steps=1)\n",
    "\n",
    "model, hparams = get_model(modelname=modelname, dataset=dataset, output_size=1, return_hparams=True)\n",
    "perturbations = generate_adversarial_images_from_model_dataset(\n",
    "    model=model,\n",
    "    modelname=modelname,\n",
    "    dataset=dataset,\n",
    "    logger=logger,\n",
    "    transform=transform,\n",
    "    i=5,\n",
    "    n=n,\n",
    "    r=0.2,\n",
    "    p=2,\n",
    "    lambda_norm=0.002,\n",
    "    t=50,\n",
    "    eps=1e-6,\n",
    "    lr_uap=1.0,\n",
    "    seed=42,\n",
    "    verbose=False,\n",
    "    num_workers=NUM_WORKERS,\n",
    "    device=device,\n",
    ")\n",
    "logger.save()"
   ]
  },
  {
   "cell_type": "code",
   "execution_count": null,
   "metadata": {
    "tags": []
   },
   "outputs": [],
   "source": [
    "v = perturbations[0].detach()\n",
    "get_datamodule(dataset, seed=42).setup()\n",
    "image, _ = next(iter(get_datamodule(dataset).train_dataloader()))\n",
    "\n",
    "# Prepare subplots in one row\n",
    "fig, axs = plt.subplots(1, 4, figsize=(20, 5))\n",
    "\n",
    "# Original Image\n",
    "axs[0].imshow(image.cpu().squeeze().permute(1, 2, 0).numpy().astype(int))\n",
    "axs[0].set_title(\"Original Image\", fontsize=16)\n",
    "axs[0].axis(\"off\")  # Hide axes for cleaner look\n",
    "\n",
    "# Perturbed Image\n",
    "x_adv = image + v.cpu()\n",
    "x_adv = torch.clamp(x_adv, 0, 255)\n",
    "axs[1].imshow(x_adv.cpu().squeeze().permute(1, 2, 0).numpy().astype(int))\n",
    "axs[1].set_title(\"Perturbed Image\", fontsize=16)\n",
    "axs[1].axis(\"off\")\n",
    "\n",
    "# Perturbation Visualization\n",
    "perturbation_visual = v.mean(dim=0).cpu().squeeze().numpy().astype(int)\n",
    "vmax = abs(perturbation_visual).max()\n",
    "im = axs[2].imshow(perturbation_visual, cmap=\"coolwarm\", vmin=-vmax, vmax=vmax)\n",
    "axs[2].set_title(\"Universal Perturbation\", fontsize=16)\n",
    "axs[2].axis(\"off\")\n",
    "cbar = plt.colorbar(im, ax=axs[2], fraction=0.046, pad=0.01, location=\"bottom\")\n",
    "cbar.set_label(\"Adjusted Brightness\", fontsize=12)\n",
    "\n",
    "# Statistical Distribution of Perturbation\n",
    "axs[3].hist(v.cpu().flatten(), bins=100, color=\"grey\", alpha=0.7)\n",
    "axs[3].set_aspect(0.0003125, adjustable=\"box\")\n",
    "axs[3].set_title(\"Perturbation Distribution\", fontsize=16)\n",
    "axs[3].set_yticks([])\n",
    "axs[3].axis(\"on\")\n",
    "axs[3].set_ylabel(\"Frequency\", fontsize=12)\n",
    "axs[3].set_xlabel(\"Adjusted Brightness\", fontsize=12)\n",
    "\n",
    "plt.suptitle(\n",
    "    f\"- Pixel Perturbation stats: min: {v.min().item():.2f}, max: {v.max().item():.2f}, σ: {v.std().item():.2f}, μ: {v.mean().item():.2f}\",\n",
    "    fontsize=10,\n",
    "    y=0.075,\n",
    "    x=0.145,\n",
    ")\n",
    "\n",
    "plt.tight_layout()\n",
    "plt.show()"
   ]
  }
 ],
 "metadata": {
  "kernelspec": {
   "display_name": "Python 3 (ipykernel)",
   "language": "python",
   "name": "python3"
  },
  "language_info": {
   "codemirror_mode": {
    "name": "ipython",
    "version": 3
   },
   "file_extension": ".py",
   "mimetype": "text/x-python",
   "name": "python",
   "nbconvert_exporter": "python",
   "pygments_lexer": "ipython3",
   "version": "3.11.8"
  }
 },
 "nbformat": 4,
 "nbformat_minor": 4
}
