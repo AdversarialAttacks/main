{
 "cells": [
  {
   "cell_type": "markdown",
   "metadata": {},
   "source": [
    "# 24FS\\_I4DS27: Adversarial Attacks \\\\ Wie kann KI überlistet werden? <br> 03-Training"
   ]
  },
  {
   "cell_type": "code",
   "execution_count": null,
   "metadata": {},
   "outputs": [],
   "source": [
    "%load_ext autoreload\n",
    "%autoreload 2\n",
    "\n",
    "import os\n",
    "import torch\n",
    "import wandb\n",
    "import torchvision\n",
    "\n",
    "from lightning import Trainer\n",
    "from lightning.pytorch.loggers import WandbLogger\n",
    "from lightning.pytorch.callbacks import EarlyStopping, ModelCheckpoint\n",
    "\n",
    "os.chdir(\"..\")\n",
    "from src.data.mri import MRIDataModule\n",
    "from src.data.covidx import COVIDXDataModule\n",
    "from src.models.imageclassifier import ImageClassifier\n",
    "\n",
    "os.environ[\"WANDB_NOTEBOOK_NAME\"] = \"notebooks/03-training.ipynb\""
   ]
  },
  {
   "cell_type": "code",
   "execution_count": null,
   "metadata": {},
   "outputs": [],
   "source": [
    "BATCH_SIZE = 8\n",
    "OUTPUT_SIZE = 1\n",
    "NUM_WORKERS = 0\n",
    "\n",
    "WANDB_ENTITY = \"24FS_I4DS27\"\n",
    "WANDB_PROJECT = \"baselines\"\n",
    "\n",
    "models = [\n",
    "    \"alexnet\", \n",
    "    \"vgg11\", \n",
    "    \"resnet18\", \n",
    "    \"densenet121\", \n",
    "    \"efficientnet_v2_m\", \n",
    "    \"vit_l_32\"\n",
    "]\n",
    "datasets = [\n",
    "    \"mri_data\",\n",
    "    \"covidx_data\", \n",
    "]\n",
    "\n",
    "transform = torchvision.transforms.Compose(\n",
    "    [\n",
    "        torchvision.transforms.Resize((448, 448), antialias=True),\n",
    "    ]\n",
    ")"
   ]
  },
  {
   "cell_type": "code",
   "execution_count": null,
   "metadata": {},
   "outputs": [],
   "source": [
    "def train():\n",
    "    with wandb.init(project=WANDB_PROJECT, entity=WANDB_ENTITY) as run:\n",
    "        config = wandb.config\n",
    "\n",
    "        model = ImageClassifier(modelname=config.model, output_size=OUTPUT_SIZE, p_dropout_classifier=config.p_dropout_classifier, weight_decay=config.weight_decay)\n",
    "\n",
    "        if config.dataset == \"covidx_data\":\n",
    "            datamodule = COVIDXDataModule(\n",
    "                path=\"data/raw/COVIDX-CXR4\", transform=transform, batch_size=config.batch_size\n",
    "            ).setup()\n",
    "        elif config.dataset == \"mri_data\":\n",
    "            datamodule = MRIDataModule(\n",
    "                path=\"data/raw/Brain-Tumor-MRI\", path_processed=\"data/processed/Brain-Tumor-MRI\", transform=transform, batch_size=config.batch_size\n",
    "            ).setup()\n",
    "\n",
    "        trainer = Trainer(\n",
    "            max_epochs=config.epochs,\n",
    "            log_every_n_steps=1,\n",
    "            gradient_clip_val=0.5,\n",
    "            accelerator=\"auto\",\n",
    "            logger=WandbLogger(log_model=\"all\"), # log_model=True log model checkpoints at the end of training\n",
    "            fast_dev_run=False, # set to True to test run\n",
    "            enable_progress_bar=False,\n",
    "            enable_model_summary=False,\n",
    "            callbacks=[\n",
    "                #EarlyStopping(monitor=\"val_loss\", mode=\"min\", patience=1),\n",
    "                ModelCheckpoint(monitor=\"val_loss\", \n",
    "                                mode=\"min\", \n",
    "                                save_top_k=1, # save the best model\n",
    "                                save_last=True, # save the last model\n",
    "                                dirpath=f\"models/{model.modelname}\", \n",
    "                                filename=f\"{model.modelname}-lr{model.lr}-pdrop{model.p_dropout_classifier}-wd{model.weight_decay}\") \n",
    "            ]\n",
    "        )\n",
    "\n",
    "        # Train the model\n",
    "        trainer.fit(model, datamodule.train_dataloader(), datamodule.val_dataloader())\n",
    "        wandb.finish()"
   ]
  },
  {
   "cell_type": "code",
   "execution_count": null,
   "metadata": {},
   "outputs": [],
   "source": [
    "for model_name in models:\n",
    "    for dataset_name in datasets:\n",
    "\n",
    "        sweep_config = {\n",
    "            \"method\": \"grid\",\n",
    "            \"metric\": {\"name\": \"val_loss\", \"goal\": \"minimize\"},\n",
    "            \"parameters\": {\n",
    "                \"model\": {\"values\": [model_name]},  \n",
    "                \"dataset\": {\"values\": [dataset_name]},\n",
    "                \"lr\": {\"values\": [1e-5]},\n",
    "                \"p_dropout_classifier\": {\"values\": [0.0, 0.2]},\n",
    "                \"weight_decay\": {\"values\": [0.0, 0.0001]},\n",
    "                \"batch_size\": {\"values\": [BATCH_SIZE]},\n",
    "                \"epochs\": {\"values\": [2]},\n",
    "            },\n",
    "        }\n",
    "        \n",
    "        sweep_id = wandb.sweep(sweep_config, project=WANDB_PROJECT, entity=WANDB_ENTITY)\n",
    "        wandb.agent(sweep_id, function=train)"
   ]
  }
 ],
 "metadata": {
  "kernelspec": {
   "display_name": "Python 3 (ipykernel)",
   "language": "python",
   "name": "python3"
  },
  "language_info": {
   "codemirror_mode": {
    "name": "ipython",
    "version": 3
   },
   "file_extension": ".py",
   "mimetype": "text/x-python",
   "name": "python",
   "nbconvert_exporter": "python",
   "pygments_lexer": "ipython3",
   "version": "3.9.7"
  }
 },
 "nbformat": 4,
 "nbformat_minor": 4
}
