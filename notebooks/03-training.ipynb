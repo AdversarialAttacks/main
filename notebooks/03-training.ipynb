{
 "cells": [
  {
   "cell_type": "markdown",
   "metadata": {},
   "source": [
    "# 24FS\\_I4DS27: Adversarial Attacks \\\\ Wie kann KI überlistet werden? <br> 03-Training"
   ]
  },
  {
   "cell_type": "code",
   "execution_count": 1,
   "metadata": {},
   "outputs": [],
   "source": [
    "%load_ext autoreload\n",
    "%autoreload 2\n",
    "\n",
    "import os\n",
    "import torch\n",
    "import wandb\n",
    "import torchvision\n",
    "\n",
    "from lightning import Trainer\n",
    "from lightning.pytorch.loggers import WandbLogger\n",
    "from lightning.pytorch.callbacks import EarlyStopping, ModelCheckpoint\n",
    "\n",
    "os.chdir(\"..\")\n",
    "from src.data.mri import MRIDataModule\n",
    "from src.data.covidx import COVIDXDataModule\n",
    "from src.models.imageclassifier import ImageClassifier"
   ]
  },
  {
   "cell_type": "code",
   "execution_count": 2,
   "metadata": {},
   "outputs": [],
   "source": [
    "BATCH_SIZE = 8\n",
    "OUTPUT_SIZE = 1\n",
    "NUM_WORKERS = 0\n",
    "\n",
    "WANDB_ENTITY = \"24FS_I4DS27\"\n",
    "WANDB_PROJECT = \"baselines\"\n",
    "\n",
    "models = [\"alexnet\", \"vgg11\", \"resnet18\", \"densenet121\", \"efficientnet_v2_m\", \"vit_l_32\"]\n",
    "datasets = [\n",
    "                #\"covidx_data\", \n",
    "                \"mri_data\",\n",
    "           ]\n",
    "\n",
    "transform = torchvision.transforms.Compose(\n",
    "    [\n",
    "        torchvision.transforms.Resize((448, 448), antialias=True),\n",
    "    ]\n",
    ")"
   ]
  },
  {
   "cell_type": "code",
   "execution_count": null,
   "metadata": {},
   "outputs": [],
   "source": [
    "def train():\n",
    "    # Initialize a new wandb run\n",
    "    with wandb.init(project=WANDB_PROJECT, entity=WANDB_ENTITY) as run:\n",
    "        # Config is a variable that holds and saves hyperparameters and inputs\n",
    "        config = wandb.config\n",
    "\n",
    "        # Initialize a new model\n",
    "        model = ImageClassifier(modelname=config.model, output_size=OUTPUT_SIZE, p_dropout_classifier=config.p_dropout_classifier)\n",
    "\n",
    "        # Initialize a new datamodule\n",
    "        if config.dataset == \"covidx_data\":\n",
    "            datamodule = COVIDXDataModule(\n",
    "                path=\"data/raw/COVIDX-CXR4\", transform=transform, batch_size=config.batch_size\n",
    "            ).setup()\n",
    "        elif config.dataset == \"mri_data\":\n",
    "            datamodule = MRIDataModule(\n",
    "                path=\"data/raw/Brain-Tumor-MRI\", path_processed=\"data/processed/Brain-Tumor-MRI\", transform=transform, batch_size=config.batch_size\n",
    "            ).setup()\n",
    "\n",
    "        # Initialize a new trainer\n",
    "        trainer = Trainer(\n",
    "            max_epochs=config.epochs,\n",
    "            accelerator=\"auto\",\n",
    "            logger=WandbLogger(),\n",
    "            callbacks=[\n",
    "                #EarlyStopping(monitor=\"val_loss\"),\n",
    "                ModelCheckpoint(monitor=\"val_loss\"),\n",
    "            ],\n",
    "            log_every_n_steps=1,\n",
    "        )\n",
    "\n",
    "        # Train the model\n",
    "        trainer.fit(model, datamodule.train_dataloader(), datamodule.val_dataloader())"
   ]
  },
  {
   "cell_type": "code",
   "execution_count": null,
   "metadata": {},
   "outputs": [],
   "source": [
    "sweep_config = {\n",
    "    \"method\": \"grid\",\n",
    "    \"metric\": {\"name\": \"val_loss\", \"goal\": \"minimize\"},\n",
    "    \"parameters\": {\n",
    "        \"model\": {\"values\": models},  # replace with alexnet, vgg11, resnet18, densenet121, efficientnet_v2_m, vit_l_32\n",
    "        \"dataset\": {\"values\": datasets},  # replace with one dataset\n",
    "        \"lr\": {\"values\": [1e-3, 1e-4]},\n",
    "        \"p_dropout_classifier\": {\"values\": [0.0, 0.2]},\n",
    "        \"batch_size\": {\"values\": [BATCH_SIZE]},\n",
    "        \"epochs\": {\"values\": [10]},\n",
    "    },\n",
    "}"
   ]
  },
  {
   "cell_type": "code",
   "execution_count": null,
   "metadata": {
    "tags": []
   },
   "outputs": [],
   "source": [
    "sweep_id = wandb.sweep(sweep_config, project=WANDB_PROJECT, entity=WANDB_ENTITY)\n",
    "wandb.agent(sweep_id, function=train)"
   ]
  }
 ],
 "metadata": {
  "kernelspec": {
   "display_name": "Python 3 (ipykernel)",
   "language": "python",
   "name": "python3"
  },
  "language_info": {
   "codemirror_mode": {
    "name": "ipython",
    "version": 3
   },
   "file_extension": ".py",
   "mimetype": "text/x-python",
   "name": "python",
   "nbconvert_exporter": "python",
   "pygments_lexer": "ipython3",
   "version": "3.11.7"
  }
 },
 "nbformat": 4,
 "nbformat_minor": 4
}
