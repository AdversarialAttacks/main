{
 "cells": [
  {
   "cell_type": "code",
   "execution_count": 1,
   "metadata": {},
   "outputs": [],
   "source": [
    "import os\n",
    "import torch\n",
    "import torchvision\n",
    "\n",
    "os.chdir(\"..\")\n",
    "from src.data.covidx import COVIDXDataModule\n",
    "from src.models.imageclassifier import ImageClassifier"
   ]
  },
  {
   "cell_type": "code",
   "execution_count": 2,
   "metadata": {},
   "outputs": [
    {
     "name": "stderr",
     "output_type": "stream",
     "text": [
      "Downloading: \"https://download.pytorch.org/models/vit_l_32-c7638314.pth\" to /Users/gabriel.torres/.cache/torch/hub/checkpoints/vit_l_32-c7638314.pth\n",
      "100%|██████████| 1.14G/1.14G [01:00<00:00, 20.1MB/s]\n"
     ]
    }
   ],
   "source": [
    "model = ImageClassifier(modelname=\"vit_l_32\", output_size=1, p_dropout_classifier=0.2)"
   ]
  },
  {
   "cell_type": "code",
   "execution_count": 3,
   "metadata": {},
   "outputs": [
    {
     "name": "stdout",
     "output_type": "stream",
     "text": [
      "tensor([[-0.3361],\n",
      "        [ 0.5123],\n",
      "        [ 0.4168],\n",
      "        [ 0.3880],\n",
      "        [ 0.1285],\n",
      "        [ 0.0179],\n",
      "        [-0.2405],\n",
      "        [-0.3230]], grad_fn=<AddmmBackward0>)\n"
     ]
    }
   ],
   "source": [
    "transform = torchvision.transforms.Compose(\n",
    "    [\n",
    "        torchvision.transforms.Resize((448, 448), antialias=True),\n",
    "    ]\n",
    ")\n",
    "\n",
    "data = COVIDXDataModule(path=\"data/raw/COVIDX-CXR4\", transform=transform, batch_size=8).setup()\n",
    "\n",
    "for batch in data.train_dataloader():\n",
    "    image, label = batch\n",
    "    print(model(image))\n",
    "    break"
   ]
  }
 ],
 "metadata": {
  "kernelspec": {
   "display_name": "Python 3",
   "language": "python",
   "name": "python3"
  },
  "language_info": {
   "codemirror_mode": {
    "name": "ipython",
    "version": 3
   },
   "file_extension": ".py",
   "mimetype": "text/x-python",
   "name": "python",
   "nbconvert_exporter": "python",
   "pygments_lexer": "ipython3",
   "version": "3.11.7"
  }
 },
 "nbformat": 4,
 "nbformat_minor": 2
}
