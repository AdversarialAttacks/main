{
 "cells": [
  {
   "cell_type": "markdown",
   "metadata": {},
   "source": [
    "# 24FS\\_I4DS27: Adversarial Attacks \\\\ Wie kann KI überlistet werden? <br> 02-Models"
   ]
  },
  {
   "cell_type": "code",
   "execution_count": 1,
   "metadata": {},
   "outputs": [],
   "source": [
    "%load_ext autoreload\n",
    "%autoreload 2\n",
    "\n",
    "import os\n",
    "import torchvision\n",
    "import torch\n",
    "import torchmetrics\n",
    "\n",
    "os.chdir(\"..\")\n",
    "from src.data.covidx import COVIDXDataModule\n",
    "from src.models.imageclassifier import ImageClassifier"
   ]
  },
  {
   "cell_type": "code",
   "execution_count": 2,
   "metadata": {},
   "outputs": [],
   "source": [
    "model = ImageClassifier(modelname=\"vit_l_32\", output_size=1, p_dropout_classifier=0.2)\n",
    "\n",
    "transform = torchvision.transforms.Compose(\n",
    "    [\n",
    "        torchvision.transforms.Resize((448, 448), antialias=True),\n",
    "    ]\n",
    ")\n",
    "\n",
    "covidx_datamodule = COVIDXDataModule(path=\"data/raw/COVIDX-CXR4\", transform=transform, batch_size=8, train_shuffle=True).setup()"
   ]
  },
  {
   "cell_type": "markdown",
   "metadata": {},
   "source": [
    "---"
   ]
  },
  {
   "cell_type": "code",
   "execution_count": 3,
   "metadata": {},
   "outputs": [
    {
     "name": "stdout",
     "output_type": "stream",
     "text": [
      "{'BinaryAccuracy': tensor(0.7500), 'BinaryPrecision': tensor(0.7500), 'BinaryRecall': tensor(1.), 'BinaryF1Score': tensor(0.8571), 'BinaryROC': (tensor([0.0000, 0.5000, 0.5000, 0.5000, 0.5000, 1.0000, 1.0000, 1.0000, 1.0000]), tensor([0.0000, 0.0000, 0.1667, 0.3333, 0.5000, 0.5000, 0.6667, 0.8333, 1.0000]), tensor([1.0000, 0.7178, 0.7119, 0.6838, 0.6525, 0.6162, 0.5939, 0.5729, 0.5629])), 'BinaryAUROC': tensor(0.2500), 'BinaryConfusionMatrix': tensor([[0, 2],\n",
      "        [0, 6]]), 'BinarySpecificity': tensor(0.)}\n"
     ]
    }
   ],
   "source": [
    "for batch in covidx_datamodule.train_dataloader():\n",
    "    image, label = batch\n",
    "    prediction = model(image).squeeze(1)\n",
    "    print(model.metrics(prediction, label))\n",
    "    break"
   ]
  },
  {
   "cell_type": "code",
   "execution_count": 4,
   "metadata": {},
   "outputs": [],
   "source": [
    "class FoolingRatio(torchmetrics.Metric):\n",
    "    # useful links: https://lightning.ai/docs/torchmetrics/stable/pages/implement.html\n",
    "    pass"
   ]
  },
  {
   "cell_type": "markdown",
   "metadata": {},
   "source": [
    "---"
   ]
  }
 ],
 "metadata": {
  "kernelspec": {
   "display_name": "Python 3",
   "language": "python",
   "name": "python3"
  },
  "language_info": {
   "codemirror_mode": {
    "name": "ipython",
    "version": 3
   },
   "file_extension": ".py",
   "mimetype": "text/x-python",
   "name": "python",
   "nbconvert_exporter": "python",
   "pygments_lexer": "ipython3",
   "version": "3.9.7"
  }
 },
 "nbformat": 4,
 "nbformat_minor": 2
}
