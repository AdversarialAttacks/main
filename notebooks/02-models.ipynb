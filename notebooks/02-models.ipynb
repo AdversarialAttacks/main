{
 "cells": [
  {
   "cell_type": "code",
   "execution_count": 1,
   "metadata": {},
   "outputs": [],
   "source": [
    "import os\n",
    "os.chdir(\"..\")\n",
    "\n",
    "import torch\n",
    "import torchvision\n",
    "from src.data.covidx import COVIDXDataModule"
   ]
  },
  {
   "cell_type": "code",
   "execution_count": 2,
   "metadata": {},
   "outputs": [],
   "source": [
    "class ImageClassifier(torch.nn.Module):\n",
    "    def __init__(self, modelname, output_size, p_dropout_classifier):\n",
    "        super().__init__()\n",
    "        self.modelname = modelname\n",
    "        self.output_size = output_size\n",
    "        self.p_dropout_classifier = p_dropout_classifier\n",
    "\n",
    "        try:\n",
    "            # check if model exists\n",
    "            if modelname not in torchvision.models.list_models():\n",
    "                raise ValueError(\n",
    "                    f\"Model {modelname} doesn't exist! These are the available torchvision models: {torchvision.models.list_models()}\"\n",
    "                )\n",
    "\n",
    "            # load the model\n",
    "            self.model = torchvision.models.get_model(modelname, weights=\"DEFAULT\")\n",
    "\n",
    "            # unfreeze all the layers (they probably already are xD)\n",
    "            for param in self.model.parameters():\n",
    "                param.requires_grad = True\n",
    "\n",
    "            # replace the last classifier layer on alexnet\n",
    "            if modelname.startswith(\"alexnet\"):\n",
    "                self.model.classifier[-1] = torch.nn.Sequential(\n",
    "                    torch.nn.Dropout(p=p_dropout_classifier),\n",
    "                    torch.nn.Linear(self.model.classifier[-1].in_features, output_size),\n",
    "                )\n",
    "\n",
    "            # replace the last classifier layer on vgg\n",
    "            elif modelname.startswith(\"vgg\"):\n",
    "                self.model.classifier[-2] = torch.nn.Dropout(p=p_dropout_classifier)\n",
    "                self.model.classifier[-1] = torch.nn.Linear(self.model.classifier[-1].in_features, output_size)\n",
    "\n",
    "            # replace the fc layer on resnet\n",
    "            elif modelname.startswith(\"resnet\"):\n",
    "                self.model.fc = torch.nn.Sequential(\n",
    "                    torch.nn.Dropout(p=p_dropout_classifier),\n",
    "                    torch.nn.Linear(self.model.fc.in_features, output_size),\n",
    "                )\n",
    "\n",
    "            # replace classifier layer on densenet\n",
    "            elif modelname.startswith(\"densenet\"):\n",
    "                self.model.classifier = torch.nn.Sequential(\n",
    "                    torch.nn.Dropout(p=p_dropout_classifier),\n",
    "                    torch.nn.Linear(self.model.classifier.in_features, output_size),\n",
    "                )\n",
    "\n",
    "            # replace the classifier layer on EfficientNet\n",
    "            elif modelname.startswith(\"efficientnet_v2\"):\n",
    "                self.model.classifier = torch.nn.Sequential(\n",
    "                    torch.nn.Dropout(p=p_dropout_classifier),\n",
    "                    torch.nn.Linear(self.model.classifier[-1].in_features, output_size),\n",
    "                )\n",
    "\n",
    "            # replace the head layer on ViT\n",
    "            elif modelname.startswith(\"vit\"):\n",
    "                self.resize = torchvision.transforms.Resize((224, 224), antialias=True)\n",
    "                self.model.heads.head = torch.nn.Sequential(\n",
    "                    torch.nn.Dropout(p=p_dropout_classifier),\n",
    "                    torch.nn.Linear(self.model.heads.head.in_features, output_size),\n",
    "                )\n",
    "\n",
    "            else:\n",
    "                raise ValueError(f\"Learning on Model {modelname} not implemented! Please choose between alexnet, vgg, resnet, densenet, efficientnet_v2 or vit.\")\n",
    "\n",
    "        except Exception as e:\n",
    "            raise ValueError(f\"Cannot load model {modelname}!\") from e\n",
    "\n",
    "    def forward(self, x):\n",
    "        if self.resize:\n",
    "            x = self.resize(x)\n",
    "\n",
    "        return self.model(x)\n",
    "\n",
    "\n",
    "model = ImageClassifier(modelname=\"vit_l_32\", output_size=1, p_dropout_classifier=0.2)"
   ]
  },
  {
   "cell_type": "code",
   "execution_count": 4,
   "metadata": {},
   "outputs": [
    {
     "name": "stdout",
     "output_type": "stream",
     "text": [
      "tensor([[ 0.4650],\n",
      "        [-0.1446],\n",
      "        [-0.2567],\n",
      "        [-0.0895],\n",
      "        [-0.1137],\n",
      "        [-0.2913],\n",
      "        [ 0.2839],\n",
      "        [-0.1945]], grad_fn=<AddmmBackward0>)\n"
     ]
    }
   ],
   "source": [
    "transform = torchvision.transforms.Compose(\n",
    "    [\n",
    "        torchvision.transforms.Resize((448, 448), antialias=True),\n",
    "    ]\n",
    ")\n",
    "\n",
    "\n",
    "data = COVIDXDataModule(path=\"data/raw/COVIDX-CXR4\", transform=transform, batch_size=8).setup()\n",
    "\n",
    "for batch in data.train_dataloader():\n",
    "    image, label = batch\n",
    "    print(model(image))\n",
    "    break"
   ]
  }
 ],
 "metadata": {
  "kernelspec": {
   "display_name": "Python 3",
   "language": "python",
   "name": "python3"
  },
  "language_info": {
   "codemirror_mode": {
    "name": "ipython",
    "version": 3
   },
   "file_extension": ".py",
   "mimetype": "text/x-python",
   "name": "python",
   "nbconvert_exporter": "python",
   "pygments_lexer": "ipython3",
   "version": "3.11.7"
  }
 },
 "nbformat": 4,
 "nbformat_minor": 2
}
